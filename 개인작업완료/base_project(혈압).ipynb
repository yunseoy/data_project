{
 "cells": [
  {
   "cell_type": "markdown",
   "id": "d81f9730-cadc-4622-b193-8c3841b97720",
   "metadata": {},
   "source": [
    "## 1-1. Python 필요 패키지 인스톨 부분"
   ]
  },
  {
   "cell_type": "code",
   "execution_count": 2,
   "id": "eec9b6ad-da13-4fd3-84e8-f0203a3d3cf2",
   "metadata": {
    "scrolled": true
   },
   "outputs": [
    {
     "name": "stdout",
     "output_type": "stream",
     "text": [
      "Requirement already satisfied: matplotlib in c:\\users\\user\\anaconda3\\lib\\site-packages (3.8.4)\n",
      "Requirement already satisfied: contourpy>=1.0.1 in c:\\users\\user\\anaconda3\\lib\\site-packages (from matplotlib) (1.2.0)\n",
      "Requirement already satisfied: cycler>=0.10 in c:\\users\\user\\anaconda3\\lib\\site-packages (from matplotlib) (0.11.0)\n",
      "Requirement already satisfied: fonttools>=4.22.0 in c:\\users\\user\\anaconda3\\lib\\site-packages (from matplotlib) (4.51.0)\n",
      "Requirement already satisfied: kiwisolver>=1.3.1 in c:\\users\\user\\anaconda3\\lib\\site-packages (from matplotlib) (1.4.4)\n",
      "Requirement already satisfied: numpy>=1.21 in c:\\users\\user\\anaconda3\\lib\\site-packages (from matplotlib) (1.26.4)\n",
      "Requirement already satisfied: packaging>=20.0 in c:\\users\\user\\appdata\\roaming\\python\\python312\\site-packages (from matplotlib) (24.0)\n",
      "Requirement already satisfied: pillow>=8 in c:\\users\\user\\anaconda3\\lib\\site-packages (from matplotlib) (10.3.0)\n",
      "Requirement already satisfied: pyparsing>=2.3.1 in c:\\users\\user\\anaconda3\\lib\\site-packages (from matplotlib) (3.0.9)\n",
      "Requirement already satisfied: python-dateutil>=2.7 in c:\\users\\user\\appdata\\roaming\\python\\python312\\site-packages (from matplotlib) (2.9.0.post0)\n",
      "Requirement already satisfied: six>=1.5 in c:\\users\\user\\appdata\\roaming\\python\\python312\\site-packages (from python-dateutil>=2.7->matplotlib) (1.16.0)\n"
     ]
    }
   ],
   "source": [
    "# matplotlib 패키지 없을 시 실행 할것 \n",
    "!pip install matplotlib"
   ]
  },
  {
   "cell_type": "code",
   "execution_count": 3,
   "id": "0a8e22ea-5ac7-48f3-86af-59eb0625e6c0",
   "metadata": {},
   "outputs": [
    {
     "name": "stdout",
     "output_type": "stream",
     "text": [
      "Requirement already satisfied: folium in c:\\users\\user\\anaconda3\\lib\\site-packages (0.17.0)\n",
      "Requirement already satisfied: branca>=0.6.0 in c:\\users\\user\\anaconda3\\lib\\site-packages (from folium) (0.7.2)\n",
      "Requirement already satisfied: jinja2>=2.9 in c:\\users\\user\\anaconda3\\lib\\site-packages (from folium) (3.1.4)\n",
      "Requirement already satisfied: numpy in c:\\users\\user\\anaconda3\\lib\\site-packages (from folium) (1.26.4)\n",
      "Requirement already satisfied: requests in c:\\users\\user\\anaconda3\\lib\\site-packages (from folium) (2.32.2)\n",
      "Requirement already satisfied: xyzservices in c:\\users\\user\\anaconda3\\lib\\site-packages (from folium) (2022.9.0)\n",
      "Requirement already satisfied: MarkupSafe>=2.0 in c:\\users\\user\\anaconda3\\lib\\site-packages (from jinja2>=2.9->folium) (2.1.3)\n",
      "Requirement already satisfied: charset-normalizer<4,>=2 in c:\\users\\user\\anaconda3\\lib\\site-packages (from requests->folium) (2.0.4)\n",
      "Requirement already satisfied: idna<4,>=2.5 in c:\\users\\user\\anaconda3\\lib\\site-packages (from requests->folium) (3.7)\n",
      "Requirement already satisfied: urllib3<3,>=1.21.1 in c:\\users\\user\\anaconda3\\lib\\site-packages (from requests->folium) (2.2.2)\n",
      "Requirement already satisfied: certifi>=2017.4.17 in c:\\users\\user\\anaconda3\\lib\\site-packages (from requests->folium) (2024.7.4)\n"
     ]
    }
   ],
   "source": [
    "# 지도시각화 패키지 인스톨\n",
    "!pip install folium"
   ]
  },
  {
   "cell_type": "markdown",
   "id": "ee36828a-221a-42ed-bfaa-a2c8b3b352cb",
   "metadata": {},
   "source": [
    "## 1-2. Python 필수 패키지 import"
   ]
  },
  {
   "cell_type": "code",
   "execution_count": 5,
   "id": "2df56009-f8a5-436e-9c36-fbf0e4a339d1",
   "metadata": {},
   "outputs": [],
   "source": [
    "#1. Import 패키지 선언\n",
    "#<필수패키지 선언>\n",
    "import pandas as pd\n",
    "import numpy as np\n",
    "import seaborn as sns\n",
    "from datetime import datetime\n",
    "#<시각화 그래프 이미지 개선 시 사용>\n",
    "import matplotlib.pyplot as plt\n",
    "#<부가패키지 선언>\n",
    "import folium\n",
    "import json"
   ]
  },
  {
   "cell_type": "raw",
   "id": "ca60511f-9067-4c55-b4fc-eb395cf76233",
   "metadata": {},
   "source": [
    "# 주요 컬럼 값이 한글이기에 한글 폰트 적용 부분"
   ]
  },
  {
   "cell_type": "code",
   "execution_count": 6,
   "id": "84e73cc6-d63e-4509-be5d-cbfb7e66295f",
   "metadata": {},
   "outputs": [],
   "source": [
    "#1. 한글폰트 및 이미지처리 패키지 선언\n",
    "# 맑은 고딕 폰트 설정\n",
    "import matplotlib.pyplot as plt \n",
    "plt.rcParams.update({'font.family' : 'Malgun Gothic'})"
   ]
  },
  {
   "cell_type": "markdown",
   "id": "760c1cbf-ac8f-4fc7-b3d0-f62d5ee516a1",
   "metadata": {},
   "source": [
    "## 2-1. DataFrame 사용변수 정의"
   ]
  },
  {
   "cell_type": "markdown",
   "id": "4e560929-fc7b-47b8-82f0-efc199bed4d7",
   "metadata": {},
   "source": [
    "#표\n",
    "데이터내역|DataFrame 공통변수 원본|DataFrame 공통변수 복사본\n",
    "-|-|-\n",
    "세종특별자치시_신장 체중 등록 내역_20231231|base_hw|df_hw\n",
    "세종특별자치시_인바디 측정 내역_20231231|base_inbody|df_inbody\n",
    "세종특별자치시_스트레스 측정 내역_20231231|base_stress|df_stress\n",
    "세종특별자치시_혈압 측정 내역_20231231|base_blood|df_blood\n",
    "국민건강보험공단_건강검진정보_20231231|base_health|df_health\n",
    "2024년_7월_말_기준_인구현황(세종)|base_population|df_population\n",
    "병원정보서비스 2021.12 |base_hospital|df_hospital\n",
    "약국정보서비스 2021.12|base_pharmacy|df_pharmacy\n",
    "우편번호|base_zip|df_zip\n",
    "통합측정자료(공통)|base_check|df_check\n",
    "\n",
    "참고) 통합측정자료는 추후 생성되며 별도 파일이 있는 것은 아님"
   ]
  },
  {
   "cell_type": "markdown",
   "id": "96028978-0ddb-4cdf-a4c9-dcbb888059c3",
   "metadata": {},
   "source": [
    "## 2-2. 분석 데이타셋 파일 로드 부분 "
   ]
  },
  {
   "cell_type": "raw",
   "id": "e0487cf9-8f0a-4182-a8f5-64be9886ffb1",
   "metadata": {},
   "source": [
    "## 필요한 부분만 사용하시면 됩니다. \n",
    "## 로드할 데이터셋 파일 원본/복사본 분리 부분 (공통변수 적용에 따른 규약 적용)\n",
    "## 필요한 부분만 실행하여 로그할 것 전체 로드 할 경우 메모리 부하 발생될 수도 있음 \n",
    "## 위 데이터프레임 변수명 참고하세요\n",
    "\n",
    "## ------------------------분석작업 순서-------------------\n",
    "## 1단계 데이터셋 구성 파악 할것\n",
    "##  - 종속/독립 변수의 파악, 데이터행 및 타입, Na컬럼 갯수 파악 : info() , shpae\n",
    "##  - 데이터 형태 파악 : head(5)\n",
    "##  - 테이터 분포 파악 : describe() , 시각화 boxplot(), .plot.hist() , (.value_counts(), .plot.bar())\n",
    "## 2단계 전처리 작업 \n",
    "##  - Na 컬럼제거 및 대체\n",
    "##  - 이상치 제거\n",
    "##  - 1단계 필수 컬럼 생성 : 나이, 동명, 지도시각화 코드\n",
    "##  - 혈압/비만은 이상치제거 시 해당 내역을 별도 DataFrame으로 만들어 둘것 (분석시 활용하지 않으나, 추후 연계분석 시 중증환자군으로 유의미 부여 필요)\n",
    "## 3단계 분석 및 시각화 수행 \n",
    "##  - 통합측정자료(공통) 데이터프레임 생성하여 이용현황 분석 \n",
    "##  - 각 업무별 데이터셋분석\n",
    "##  - 병원/질명/이상치 질병건수 등 연계 분석 실시"
   ]
  },
  {
   "cell_type": "code",
   "execution_count": 10,
   "id": "8ddff90c-4acc-4993-81fe-df6443fad800",
   "metadata": {},
   "outputs": [
    {
     "name": "stdout",
     "output_type": "stream",
     "text": [
      "<class 'pandas.core.frame.DataFrame'>\n",
      "RangeIndex: 53778 entries, 0 to 53777\n",
      "Data columns (total 9 columns):\n",
      " #   Column    Non-Null Count  Dtype  \n",
      "---  ------    --------------  -----  \n",
      " 0   사용자 고유번호  53778 non-null  object \n",
      " 1   측정일자      53778 non-null  object \n",
      " 2   측정시간      53778 non-null  object \n",
      " 3   성별        53778 non-null  object \n",
      " 4   사용자 출생년도  53778 non-null  int64  \n",
      " 5   행정동명      53778 non-null  object \n",
      " 6   수축 혈압     53778 non-null  int64  \n",
      " 7   이완 혈압     53778 non-null  int64  \n",
      " 8   맥박        19736 non-null  float64\n",
      "dtypes: float64(1), int64(3), object(5)\n",
      "memory usage: 3.7+ MB\n"
     ]
    }
   ],
   "source": [
    "#2. CVS파일을 로드하여 DataFrame생성 \n",
    "#2-1-3 혈압 측정 내역 파일 로드\n",
    "base_blood = pd.read_csv('data/세종특별자치시_혈압 측정 내역_20231231.csv', encoding='cp949')\n",
    "df_blood = base_blood.copy()\n",
    "df_blood.info()"
   ]
  },
  {
   "cell_type": "code",
   "execution_count": 11,
   "id": "0ee7d59d-699d-4e3a-a687-a85fe7027723",
   "metadata": {},
   "outputs": [
    {
     "data": {
      "text/plain": [
       "(53778, 9)"
      ]
     },
     "execution_count": 11,
     "metadata": {},
     "output_type": "execute_result"
    }
   ],
   "source": [
    "df_blood.shape"
   ]
  },
  {
   "cell_type": "code",
   "execution_count": 12,
   "id": "0e5ffb9c-71c0-48a4-b3d7-efc4727048cc",
   "metadata": {},
   "outputs": [
    {
     "data": {
      "text/html": [
       "<div>\n",
       "<style scoped>\n",
       "    .dataframe tbody tr th:only-of-type {\n",
       "        vertical-align: middle;\n",
       "    }\n",
       "\n",
       "    .dataframe tbody tr th {\n",
       "        vertical-align: top;\n",
       "    }\n",
       "\n",
       "    .dataframe thead th {\n",
       "        text-align: right;\n",
       "    }\n",
       "</style>\n",
       "<table border=\"1\" class=\"dataframe\">\n",
       "  <thead>\n",
       "    <tr style=\"text-align: right;\">\n",
       "      <th></th>\n",
       "      <th>사용자 고유번호</th>\n",
       "      <th>측정일자</th>\n",
       "      <th>측정시간</th>\n",
       "      <th>성별</th>\n",
       "      <th>사용자 출생년도</th>\n",
       "      <th>행정동명</th>\n",
       "      <th>수축 혈압</th>\n",
       "      <th>이완 혈압</th>\n",
       "      <th>맥박</th>\n",
       "    </tr>\n",
       "  </thead>\n",
       "  <tbody>\n",
       "    <tr>\n",
       "      <th>0</th>\n",
       "      <td>CA5E614540CE0769E0535F00A8C08588</td>\n",
       "      <td>2021-08-30</td>\n",
       "      <td>14:17</td>\n",
       "      <td>M</td>\n",
       "      <td>1994</td>\n",
       "      <td>나성동</td>\n",
       "      <td>128</td>\n",
       "      <td>78</td>\n",
       "      <td>92.0</td>\n",
       "    </tr>\n",
       "    <tr>\n",
       "      <th>1</th>\n",
       "      <td>CAD4E5E5AE8D7CACE0535F00A8C075E0</td>\n",
       "      <td>2021-08-31</td>\n",
       "      <td>14:10</td>\n",
       "      <td>F</td>\n",
       "      <td>1983</td>\n",
       "      <td>종촌동</td>\n",
       "      <td>101</td>\n",
       "      <td>55</td>\n",
       "      <td>68.0</td>\n",
       "    </tr>\n",
       "    <tr>\n",
       "      <th>2</th>\n",
       "      <td>CAD50BA68DA78C38E0535F00A8C01524</td>\n",
       "      <td>2021-08-31</td>\n",
       "      <td>14:19</td>\n",
       "      <td>F</td>\n",
       "      <td>1981</td>\n",
       "      <td>종촌동</td>\n",
       "      <td>117</td>\n",
       "      <td>83</td>\n",
       "      <td>86.0</td>\n",
       "    </tr>\n",
       "    <tr>\n",
       "      <th>3</th>\n",
       "      <td>CAD71E638BAC342BE0535F00A8C05272</td>\n",
       "      <td>2021-08-31</td>\n",
       "      <td>16:48</td>\n",
       "      <td>M</td>\n",
       "      <td>1980</td>\n",
       "      <td>한솔동</td>\n",
       "      <td>157</td>\n",
       "      <td>96</td>\n",
       "      <td>65.0</td>\n",
       "    </tr>\n",
       "    <tr>\n",
       "      <th>4</th>\n",
       "      <td>CAD72451510337B6E0535F00A8C02A56</td>\n",
       "      <td>2021-08-31</td>\n",
       "      <td>17:00</td>\n",
       "      <td>M</td>\n",
       "      <td>1952</td>\n",
       "      <td>한솔동</td>\n",
       "      <td>139</td>\n",
       "      <td>68</td>\n",
       "      <td>55.0</td>\n",
       "    </tr>\n",
       "  </tbody>\n",
       "</table>\n",
       "</div>"
      ],
      "text/plain": [
       "                           사용자 고유번호        측정일자   측정시간 성별  사용자 출생년도 행정동명  \\\n",
       "0  CA5E614540CE0769E0535F00A8C08588  2021-08-30  14:17  M      1994  나성동   \n",
       "1  CAD4E5E5AE8D7CACE0535F00A8C075E0  2021-08-31  14:10  F      1983  종촌동   \n",
       "2  CAD50BA68DA78C38E0535F00A8C01524  2021-08-31  14:19  F      1981  종촌동   \n",
       "3  CAD71E638BAC342BE0535F00A8C05272  2021-08-31  16:48  M      1980  한솔동   \n",
       "4  CAD72451510337B6E0535F00A8C02A56  2021-08-31  17:00  M      1952  한솔동   \n",
       "\n",
       "   수축 혈압  이완 혈압    맥박  \n",
       "0    128     78  92.0  \n",
       "1    101     55  68.0  \n",
       "2    117     83  86.0  \n",
       "3    157     96  65.0  \n",
       "4    139     68  55.0  "
      ]
     },
     "execution_count": 12,
     "metadata": {},
     "output_type": "execute_result"
    }
   ],
   "source": [
    "df_blood.head(5)"
   ]
  },
  {
   "cell_type": "code",
   "execution_count": 13,
   "id": "350bb327-bdf1-48ba-aa84-b204df0fa816",
   "metadata": {},
   "outputs": [
    {
     "name": "stdout",
     "output_type": "stream",
     "text": [
      "사용자 고유번호        0\n",
      "측정일자            0\n",
      "측정시간            0\n",
      "성별              0\n",
      "사용자 출생년도        0\n",
      "행정동명            0\n",
      "수축 혈압           0\n",
      "이완 혈압           0\n",
      "맥박          34042\n",
      "dtype: int64\n"
     ]
    }
   ],
   "source": [
    "# 컬럼 결측치 확인\n",
    "nan_count=df_blood.isna().sum()\n",
    "print(nan_count)"
   ]
  },
  {
   "cell_type": "code",
   "execution_count": 14,
   "id": "274957c9-4483-4984-9096-2d2e087188b4",
   "metadata": {},
   "outputs": [
    {
     "data": {
      "text/html": [
       "<div>\n",
       "<style scoped>\n",
       "    .dataframe tbody tr th:only-of-type {\n",
       "        vertical-align: middle;\n",
       "    }\n",
       "\n",
       "    .dataframe tbody tr th {\n",
       "        vertical-align: top;\n",
       "    }\n",
       "\n",
       "    .dataframe thead th {\n",
       "        text-align: right;\n",
       "    }\n",
       "</style>\n",
       "<table border=\"1\" class=\"dataframe\">\n",
       "  <thead>\n",
       "    <tr style=\"text-align: right;\">\n",
       "      <th></th>\n",
       "      <th>사용자 출생년도</th>\n",
       "      <th>수축 혈압</th>\n",
       "      <th>이완 혈압</th>\n",
       "      <th>맥박</th>\n",
       "    </tr>\n",
       "  </thead>\n",
       "  <tbody>\n",
       "    <tr>\n",
       "      <th>count</th>\n",
       "      <td>53778.000000</td>\n",
       "      <td>53778.000000</td>\n",
       "      <td>53778.000000</td>\n",
       "      <td>19736.000000</td>\n",
       "    </tr>\n",
       "    <tr>\n",
       "      <th>mean</th>\n",
       "      <td>1975.921511</td>\n",
       "      <td>118.454480</td>\n",
       "      <td>74.770222</td>\n",
       "      <td>81.584009</td>\n",
       "    </tr>\n",
       "    <tr>\n",
       "      <th>std</th>\n",
       "      <td>10.277670</td>\n",
       "      <td>11.311433</td>\n",
       "      <td>10.152116</td>\n",
       "      <td>13.672737</td>\n",
       "    </tr>\n",
       "    <tr>\n",
       "      <th>min</th>\n",
       "      <td>1944.000000</td>\n",
       "      <td>61.000000</td>\n",
       "      <td>6.000000</td>\n",
       "      <td>34.000000</td>\n",
       "    </tr>\n",
       "    <tr>\n",
       "      <th>25%</th>\n",
       "      <td>1970.000000</td>\n",
       "      <td>113.000000</td>\n",
       "      <td>69.000000</td>\n",
       "      <td>72.000000</td>\n",
       "    </tr>\n",
       "    <tr>\n",
       "      <th>50%</th>\n",
       "      <td>1977.000000</td>\n",
       "      <td>120.000000</td>\n",
       "      <td>79.000000</td>\n",
       "      <td>80.000000</td>\n",
       "    </tr>\n",
       "    <tr>\n",
       "      <th>75%</th>\n",
       "      <td>1982.000000</td>\n",
       "      <td>122.000000</td>\n",
       "      <td>80.000000</td>\n",
       "      <td>90.000000</td>\n",
       "    </tr>\n",
       "    <tr>\n",
       "      <th>max</th>\n",
       "      <td>2015.000000</td>\n",
       "      <td>244.000000</td>\n",
       "      <td>167.000000</td>\n",
       "      <td>187.000000</td>\n",
       "    </tr>\n",
       "  </tbody>\n",
       "</table>\n",
       "</div>"
      ],
      "text/plain": [
       "           사용자 출생년도         수축 혈압         이완 혈압            맥박\n",
       "count  53778.000000  53778.000000  53778.000000  19736.000000\n",
       "mean    1975.921511    118.454480     74.770222     81.584009\n",
       "std       10.277670     11.311433     10.152116     13.672737\n",
       "min     1944.000000     61.000000      6.000000     34.000000\n",
       "25%     1970.000000    113.000000     69.000000     72.000000\n",
       "50%     1977.000000    120.000000     79.000000     80.000000\n",
       "75%     1982.000000    122.000000     80.000000     90.000000\n",
       "max     2015.000000    244.000000    167.000000    187.000000"
      ]
     },
     "execution_count": 14,
     "metadata": {},
     "output_type": "execute_result"
    }
   ],
   "source": [
    "df_blood.describe()"
   ]
  },
  {
   "cell_type": "code",
   "execution_count": 15,
   "id": "cc607858-ee4a-4595-8057-f11a8c08ecb0",
   "metadata": {},
   "outputs": [
    {
     "name": "stdout",
     "output_type": "stream",
     "text": [
      "<class 'pandas.core.frame.DataFrame'>\n",
      "RangeIndex: 53778 entries, 0 to 53777\n",
      "Data columns (total 9 columns):\n",
      " #   Column    Non-Null Count  Dtype         \n",
      "---  ------    --------------  -----         \n",
      " 0   사용자 고유번호  53778 non-null  object        \n",
      " 1   측정일자      53778 non-null  datetime64[ns]\n",
      " 2   측정시간      53778 non-null  object        \n",
      " 3   성별        53778 non-null  object        \n",
      " 4   사용자 출생년도  53778 non-null  int64         \n",
      " 5   행정동명      53778 non-null  object        \n",
      " 6   수축 혈압     53778 non-null  int64         \n",
      " 7   이완 혈압     53778 non-null  int64         \n",
      " 8   맥박        19736 non-null  float64       \n",
      "dtypes: datetime64[ns](1), float64(1), int64(3), object(4)\n",
      "memory usage: 3.7+ MB\n"
     ]
    }
   ],
   "source": [
    "# 측정일자 데이터 타입 변경\n",
    "df_blood = df_blood.copy()\n",
    "df_blood['측정일자'] = pd.to_datetime(df_blood['측정일자'])\n",
    "df_blood.info()"
   ]
  },
  {
   "cell_type": "code",
   "execution_count": 16,
   "id": "bcf1efb1-ccbe-4af6-b7e7-1c8da40289e4",
   "metadata": {},
   "outputs": [
    {
     "data": {
      "text/html": [
       "<div>\n",
       "<style scoped>\n",
       "    .dataframe tbody tr th:only-of-type {\n",
       "        vertical-align: middle;\n",
       "    }\n",
       "\n",
       "    .dataframe tbody tr th {\n",
       "        vertical-align: top;\n",
       "    }\n",
       "\n",
       "    .dataframe thead th {\n",
       "        text-align: right;\n",
       "    }\n",
       "</style>\n",
       "<table border=\"1\" class=\"dataframe\">\n",
       "  <thead>\n",
       "    <tr style=\"text-align: right;\">\n",
       "      <th></th>\n",
       "      <th>사용자 고유번호</th>\n",
       "      <th>측정일자</th>\n",
       "      <th>측정시간</th>\n",
       "      <th>성별</th>\n",
       "      <th>사용자 출생년도</th>\n",
       "      <th>행정동명</th>\n",
       "      <th>수축 혈압</th>\n",
       "      <th>이완 혈압</th>\n",
       "      <th>맥박</th>\n",
       "      <th>측정연도</th>\n",
       "    </tr>\n",
       "  </thead>\n",
       "  <tbody>\n",
       "    <tr>\n",
       "      <th>0</th>\n",
       "      <td>CA5E614540CE0769E0535F00A8C08588</td>\n",
       "      <td>2021-08-30</td>\n",
       "      <td>14:17</td>\n",
       "      <td>M</td>\n",
       "      <td>1994</td>\n",
       "      <td>나성동</td>\n",
       "      <td>128</td>\n",
       "      <td>78</td>\n",
       "      <td>92.0</td>\n",
       "      <td>2021</td>\n",
       "    </tr>\n",
       "    <tr>\n",
       "      <th>1</th>\n",
       "      <td>CAD4E5E5AE8D7CACE0535F00A8C075E0</td>\n",
       "      <td>2021-08-31</td>\n",
       "      <td>14:10</td>\n",
       "      <td>F</td>\n",
       "      <td>1983</td>\n",
       "      <td>종촌동</td>\n",
       "      <td>101</td>\n",
       "      <td>55</td>\n",
       "      <td>68.0</td>\n",
       "      <td>2021</td>\n",
       "    </tr>\n",
       "    <tr>\n",
       "      <th>2</th>\n",
       "      <td>CAD50BA68DA78C38E0535F00A8C01524</td>\n",
       "      <td>2021-08-31</td>\n",
       "      <td>14:19</td>\n",
       "      <td>F</td>\n",
       "      <td>1981</td>\n",
       "      <td>종촌동</td>\n",
       "      <td>117</td>\n",
       "      <td>83</td>\n",
       "      <td>86.0</td>\n",
       "      <td>2021</td>\n",
       "    </tr>\n",
       "    <tr>\n",
       "      <th>3</th>\n",
       "      <td>CAD71E638BAC342BE0535F00A8C05272</td>\n",
       "      <td>2021-08-31</td>\n",
       "      <td>16:48</td>\n",
       "      <td>M</td>\n",
       "      <td>1980</td>\n",
       "      <td>한솔동</td>\n",
       "      <td>157</td>\n",
       "      <td>96</td>\n",
       "      <td>65.0</td>\n",
       "      <td>2021</td>\n",
       "    </tr>\n",
       "    <tr>\n",
       "      <th>4</th>\n",
       "      <td>CAD72451510337B6E0535F00A8C02A56</td>\n",
       "      <td>2021-08-31</td>\n",
       "      <td>17:00</td>\n",
       "      <td>M</td>\n",
       "      <td>1952</td>\n",
       "      <td>한솔동</td>\n",
       "      <td>139</td>\n",
       "      <td>68</td>\n",
       "      <td>55.0</td>\n",
       "      <td>2021</td>\n",
       "    </tr>\n",
       "  </tbody>\n",
       "</table>\n",
       "</div>"
      ],
      "text/plain": [
       "                           사용자 고유번호       측정일자   측정시간 성별  사용자 출생년도 행정동명  \\\n",
       "0  CA5E614540CE0769E0535F00A8C08588 2021-08-30  14:17  M      1994  나성동   \n",
       "1  CAD4E5E5AE8D7CACE0535F00A8C075E0 2021-08-31  14:10  F      1983  종촌동   \n",
       "2  CAD50BA68DA78C38E0535F00A8C01524 2021-08-31  14:19  F      1981  종촌동   \n",
       "3  CAD71E638BAC342BE0535F00A8C05272 2021-08-31  16:48  M      1980  한솔동   \n",
       "4  CAD72451510337B6E0535F00A8C02A56 2021-08-31  17:00  M      1952  한솔동   \n",
       "\n",
       "   수축 혈압  이완 혈압    맥박  측정연도  \n",
       "0    128     78  92.0  2021  \n",
       "1    101     55  68.0  2021  \n",
       "2    117     83  86.0  2021  \n",
       "3    157     96  65.0  2021  \n",
       "4    139     68  55.0  2021  "
      ]
     },
     "execution_count": 16,
     "metadata": {},
     "output_type": "execute_result"
    }
   ],
   "source": [
    "# 데이터 전처리를 위한 측정연도 컬럼 추가\n",
    "df_blood['측정연도'] = df_blood['측정일자'].dt.year\n",
    "df_blood.head()"
   ]
  },
  {
   "cell_type": "code",
   "execution_count": 17,
   "id": "5b9217b4-1b16-4555-86e4-9b8449fbd35d",
   "metadata": {},
   "outputs": [
    {
     "data": {
      "text/plain": [
       "측정연도\n",
       "2023    47410\n",
       "2022     5394\n",
       "2021      967\n",
       "2013        6\n",
       "2024        1\n",
       "Name: count, dtype: int64"
      ]
     },
     "execution_count": 17,
     "metadata": {},
     "output_type": "execute_result"
    }
   ],
   "source": [
    "# 통계적 유의미한 연도 확인\n",
    "df_blood['측정연도'].value_counts()"
   ]
  },
  {
   "cell_type": "code",
   "execution_count": 18,
   "id": "1efd3885-8794-4c89-b788-193a703fff7f",
   "metadata": {},
   "outputs": [
    {
     "data": {
      "text/plain": [
       "측정연도\n",
       "2023    47410\n",
       "2022     5394\n",
       "2021      967\n",
       "Name: count, dtype: int64"
      ]
     },
     "execution_count": 18,
     "metadata": {},
     "output_type": "execute_result"
    }
   ],
   "source": [
    "# 2021~2023년도 데이터로 구성\n",
    "df_blood=df_blood.query('측정연도 >= 2021')\n",
    "df_blood=df_blood.query('측정연도 <  2024')\n",
    "df_blood['측정연도'].value_counts()"
   ]
  },
  {
   "cell_type": "code",
   "execution_count": 19,
   "id": "8bd0efa3-0d8a-46d7-a070-b70835bc9d01",
   "metadata": {},
   "outputs": [
    {
     "name": "stdout",
     "output_type": "stream",
     "text": [
      "   사용자 출생년도  나이\n",
      "0      1994  29\n",
      "1      1983  40\n",
      "2      1981  42\n",
      "3      1980  43\n",
      "4      1952  71\n"
     ]
    }
   ],
   "source": [
    "# 분석 용이성을 위해 나이 컬럼 생성\n",
    "df_blood['나이'] = 2023 - df_blood['사용자 출생년도'].astype(int)\n",
    "\n",
    "# 나이 컬럼 확인\n",
    "print(df_blood[['사용자 출생년도', '나이']].head())\n"
   ]
  },
  {
   "cell_type": "code",
   "execution_count": 20,
   "id": "636258d9-f90b-4848-9db5-533dd36bd903",
   "metadata": {},
   "outputs": [
    {
     "data": {
      "text/html": [
       "<div>\n",
       "<style scoped>\n",
       "    .dataframe tbody tr th:only-of-type {\n",
       "        vertical-align: middle;\n",
       "    }\n",
       "\n",
       "    .dataframe tbody tr th {\n",
       "        vertical-align: top;\n",
       "    }\n",
       "\n",
       "    .dataframe thead th {\n",
       "        text-align: right;\n",
       "    }\n",
       "</style>\n",
       "<table border=\"1\" class=\"dataframe\">\n",
       "  <thead>\n",
       "    <tr style=\"text-align: right;\">\n",
       "      <th></th>\n",
       "      <th>사용자 고유번호</th>\n",
       "      <th>측정일자</th>\n",
       "      <th>측정시간</th>\n",
       "      <th>성별</th>\n",
       "      <th>사용자 출생년도</th>\n",
       "      <th>행정동명</th>\n",
       "      <th>수축 혈압</th>\n",
       "      <th>이완 혈압</th>\n",
       "      <th>맥박</th>\n",
       "      <th>측정연도</th>\n",
       "      <th>나이</th>\n",
       "    </tr>\n",
       "  </thead>\n",
       "  <tbody>\n",
       "    <tr>\n",
       "      <th>0</th>\n",
       "      <td>CA5E614540CE0769E0535F00A8C08588</td>\n",
       "      <td>2021-08-30</td>\n",
       "      <td>14:17</td>\n",
       "      <td>M</td>\n",
       "      <td>1994</td>\n",
       "      <td>나성동</td>\n",
       "      <td>128</td>\n",
       "      <td>78</td>\n",
       "      <td>92.0</td>\n",
       "      <td>2021</td>\n",
       "      <td>29</td>\n",
       "    </tr>\n",
       "  </tbody>\n",
       "</table>\n",
       "</div>"
      ],
      "text/plain": [
       "                           사용자 고유번호       측정일자   측정시간 성별  사용자 출생년도 행정동명  \\\n",
       "0  CA5E614540CE0769E0535F00A8C08588 2021-08-30  14:17  M      1994  나성동   \n",
       "\n",
       "   수축 혈압  이완 혈압    맥박  측정연도  나이  \n",
       "0    128     78  92.0  2021  29  "
      ]
     },
     "execution_count": 20,
     "metadata": {},
     "output_type": "execute_result"
    }
   ],
   "source": [
    "df_blood.head(1)"
   ]
  },
  {
   "cell_type": "code",
   "execution_count": 21,
   "id": "4dff0d87-978e-42b4-bf24-ee0d1d64d68b",
   "metadata": {},
   "outputs": [
    {
     "data": {
      "text/html": [
       "<div>\n",
       "<style scoped>\n",
       "    .dataframe tbody tr th:only-of-type {\n",
       "        vertical-align: middle;\n",
       "    }\n",
       "\n",
       "    .dataframe tbody tr th {\n",
       "        vertical-align: top;\n",
       "    }\n",
       "\n",
       "    .dataframe thead th {\n",
       "        text-align: right;\n",
       "    }\n",
       "</style>\n",
       "<table border=\"1\" class=\"dataframe\">\n",
       "  <thead>\n",
       "    <tr style=\"text-align: right;\">\n",
       "      <th></th>\n",
       "      <th>행정동명</th>\n",
       "      <th>인원수</th>\n",
       "    </tr>\n",
       "  </thead>\n",
       "  <tbody>\n",
       "    <tr>\n",
       "      <th>0</th>\n",
       "      <td>새롬동</td>\n",
       "      <td>7550</td>\n",
       "    </tr>\n",
       "    <tr>\n",
       "      <th>1</th>\n",
       "      <td>한솔동</td>\n",
       "      <td>6384</td>\n",
       "    </tr>\n",
       "    <tr>\n",
       "      <th>2</th>\n",
       "      <td>아름동</td>\n",
       "      <td>5810</td>\n",
       "    </tr>\n",
       "    <tr>\n",
       "      <th>3</th>\n",
       "      <td>다정동</td>\n",
       "      <td>5440</td>\n",
       "    </tr>\n",
       "    <tr>\n",
       "      <th>4</th>\n",
       "      <td>고운동</td>\n",
       "      <td>4762</td>\n",
       "    </tr>\n",
       "    <tr>\n",
       "      <th>5</th>\n",
       "      <td>도담동</td>\n",
       "      <td>3689</td>\n",
       "    </tr>\n",
       "    <tr>\n",
       "      <th>6</th>\n",
       "      <td>소담동</td>\n",
       "      <td>3430</td>\n",
       "    </tr>\n",
       "    <tr>\n",
       "      <th>7</th>\n",
       "      <td>나성동</td>\n",
       "      <td>2584</td>\n",
       "    </tr>\n",
       "    <tr>\n",
       "      <th>8</th>\n",
       "      <td>보람동</td>\n",
       "      <td>2503</td>\n",
       "    </tr>\n",
       "    <tr>\n",
       "      <th>9</th>\n",
       "      <td>대평동</td>\n",
       "      <td>2154</td>\n",
       "    </tr>\n",
       "    <tr>\n",
       "      <th>10</th>\n",
       "      <td>반곡동</td>\n",
       "      <td>2066</td>\n",
       "    </tr>\n",
       "    <tr>\n",
       "      <th>11</th>\n",
       "      <td>종촌동</td>\n",
       "      <td>2031</td>\n",
       "    </tr>\n",
       "    <tr>\n",
       "      <th>12</th>\n",
       "      <td>조치원읍</td>\n",
       "      <td>1872</td>\n",
       "    </tr>\n",
       "    <tr>\n",
       "      <th>13</th>\n",
       "      <td>해밀동</td>\n",
       "      <td>1601</td>\n",
       "    </tr>\n",
       "    <tr>\n",
       "      <th>14</th>\n",
       "      <td>어진동</td>\n",
       "      <td>994</td>\n",
       "    </tr>\n",
       "    <tr>\n",
       "      <th>15</th>\n",
       "      <td>연기면</td>\n",
       "      <td>547</td>\n",
       "    </tr>\n",
       "    <tr>\n",
       "      <th>16</th>\n",
       "      <td>장군면</td>\n",
       "      <td>242</td>\n",
       "    </tr>\n",
       "    <tr>\n",
       "      <th>17</th>\n",
       "      <td>전의면</td>\n",
       "      <td>41</td>\n",
       "    </tr>\n",
       "    <tr>\n",
       "      <th>18</th>\n",
       "      <td>연서면</td>\n",
       "      <td>24</td>\n",
       "    </tr>\n",
       "    <tr>\n",
       "      <th>19</th>\n",
       "      <td>부강면</td>\n",
       "      <td>20</td>\n",
       "    </tr>\n",
       "    <tr>\n",
       "      <th>20</th>\n",
       "      <td>금남면</td>\n",
       "      <td>18</td>\n",
       "    </tr>\n",
       "    <tr>\n",
       "      <th>21</th>\n",
       "      <td>연동면</td>\n",
       "      <td>7</td>\n",
       "    </tr>\n",
       "    <tr>\n",
       "      <th>22</th>\n",
       "      <td>전동면</td>\n",
       "      <td>2</td>\n",
       "    </tr>\n",
       "  </tbody>\n",
       "</table>\n",
       "</div>"
      ],
      "text/plain": [
       "    행정동명   인원수\n",
       "0    새롬동  7550\n",
       "1    한솔동  6384\n",
       "2    아름동  5810\n",
       "3    다정동  5440\n",
       "4    고운동  4762\n",
       "5    도담동  3689\n",
       "6    소담동  3430\n",
       "7    나성동  2584\n",
       "8    보람동  2503\n",
       "9    대평동  2154\n",
       "10   반곡동  2066\n",
       "11   종촌동  2031\n",
       "12  조치원읍  1872\n",
       "13   해밀동  1601\n",
       "14   어진동   994\n",
       "15   연기면   547\n",
       "16   장군면   242\n",
       "17   전의면    41\n",
       "18   연서면    24\n",
       "19   부강면    20\n",
       "20   금남면    18\n",
       "21   연동면     7\n",
       "22   전동면     2"
      ]
     },
     "execution_count": 21,
     "metadata": {},
     "output_type": "execute_result"
    }
   ],
   "source": [
    "# 동별 세종똑똑 이용자 수 확인\n",
    "dong_count = df_blood['행정동명'].value_counts().reset_index()\n",
    "dong_count.columns = ['행정동명', '인원수']\n",
    "dong_count"
   ]
  },
  {
   "cell_type": "code",
   "execution_count": 22,
   "id": "41f5fd01-4f9b-4367-8d85-67491862acc8",
   "metadata": {},
   "outputs": [
    {
     "data": {
      "text/html": [
       "<div>\n",
       "<style scoped>\n",
       "    .dataframe tbody tr th:only-of-type {\n",
       "        vertical-align: middle;\n",
       "    }\n",
       "\n",
       "    .dataframe tbody tr th {\n",
       "        vertical-align: top;\n",
       "    }\n",
       "\n",
       "    .dataframe thead th {\n",
       "        text-align: right;\n",
       "    }\n",
       "</style>\n",
       "<table border=\"1\" class=\"dataframe\">\n",
       "  <thead>\n",
       "    <tr style=\"text-align: right;\">\n",
       "      <th></th>\n",
       "      <th>행정동명</th>\n",
       "      <th>인원수</th>\n",
       "    </tr>\n",
       "  </thead>\n",
       "  <tbody>\n",
       "    <tr>\n",
       "      <th>0</th>\n",
       "      <td>새롬동</td>\n",
       "      <td>7550</td>\n",
       "    </tr>\n",
       "    <tr>\n",
       "      <th>1</th>\n",
       "      <td>한솔동</td>\n",
       "      <td>6384</td>\n",
       "    </tr>\n",
       "    <tr>\n",
       "      <th>2</th>\n",
       "      <td>아름동</td>\n",
       "      <td>5810</td>\n",
       "    </tr>\n",
       "    <tr>\n",
       "      <th>3</th>\n",
       "      <td>다정동</td>\n",
       "      <td>5440</td>\n",
       "    </tr>\n",
       "    <tr>\n",
       "      <th>4</th>\n",
       "      <td>고운동</td>\n",
       "      <td>4762</td>\n",
       "    </tr>\n",
       "    <tr>\n",
       "      <th>5</th>\n",
       "      <td>도담동</td>\n",
       "      <td>3689</td>\n",
       "    </tr>\n",
       "    <tr>\n",
       "      <th>6</th>\n",
       "      <td>소담동</td>\n",
       "      <td>3430</td>\n",
       "    </tr>\n",
       "    <tr>\n",
       "      <th>7</th>\n",
       "      <td>나성동</td>\n",
       "      <td>2584</td>\n",
       "    </tr>\n",
       "    <tr>\n",
       "      <th>8</th>\n",
       "      <td>보람동</td>\n",
       "      <td>2503</td>\n",
       "    </tr>\n",
       "    <tr>\n",
       "      <th>9</th>\n",
       "      <td>대평동</td>\n",
       "      <td>2154</td>\n",
       "    </tr>\n",
       "    <tr>\n",
       "      <th>10</th>\n",
       "      <td>반곡동</td>\n",
       "      <td>2066</td>\n",
       "    </tr>\n",
       "    <tr>\n",
       "      <th>11</th>\n",
       "      <td>종촌동</td>\n",
       "      <td>2031</td>\n",
       "    </tr>\n",
       "    <tr>\n",
       "      <th>12</th>\n",
       "      <td>조치원읍</td>\n",
       "      <td>1872</td>\n",
       "    </tr>\n",
       "    <tr>\n",
       "      <th>13</th>\n",
       "      <td>해밀동</td>\n",
       "      <td>1601</td>\n",
       "    </tr>\n",
       "    <tr>\n",
       "      <th>14</th>\n",
       "      <td>어진동</td>\n",
       "      <td>994</td>\n",
       "    </tr>\n",
       "    <tr>\n",
       "      <th>15</th>\n",
       "      <td>연기면</td>\n",
       "      <td>547</td>\n",
       "    </tr>\n",
       "  </tbody>\n",
       "</table>\n",
       "</div>"
      ],
      "text/plain": [
       "    행정동명   인원수\n",
       "0    새롬동  7550\n",
       "1    한솔동  6384\n",
       "2    아름동  5810\n",
       "3    다정동  5440\n",
       "4    고운동  4762\n",
       "5    도담동  3689\n",
       "6    소담동  3430\n",
       "7    나성동  2584\n",
       "8    보람동  2503\n",
       "9    대평동  2154\n",
       "10   반곡동  2066\n",
       "11   종촌동  2031\n",
       "12  조치원읍  1872\n",
       "13   해밀동  1601\n",
       "14   어진동   994\n",
       "15   연기면   547"
      ]
     },
     "execution_count": 22,
     "metadata": {},
     "output_type": "execute_result"
    }
   ],
   "source": [
    "# 통계적 유의미를 고려 동별 사용인원 300건 이상 추출\n",
    "dong_count = dong_count.query('인원수 >= 300')\n",
    "dong_count"
   ]
  },
  {
   "cell_type": "markdown",
   "id": "8ace6dae-f499-47ed-8fab-766df9e5c292",
   "metadata": {},
   "source": [
    "### IQR을 이용한 이상치 정의와 제거 그리고 께끗한 데이터 확인"
   ]
  },
  {
   "cell_type": "code",
   "execution_count": 25,
   "id": "16a82a3a-96f2-4782-9dfb-11d6e4c24597",
   "metadata": {},
   "outputs": [
    {
     "data": {
      "text/html": [
       "<div>\n",
       "<style scoped>\n",
       "    .dataframe tbody tr th:only-of-type {\n",
       "        vertical-align: middle;\n",
       "    }\n",
       "\n",
       "    .dataframe tbody tr th {\n",
       "        vertical-align: top;\n",
       "    }\n",
       "\n",
       "    .dataframe thead th {\n",
       "        text-align: right;\n",
       "    }\n",
       "</style>\n",
       "<table border=\"1\" class=\"dataframe\">\n",
       "  <thead>\n",
       "    <tr style=\"text-align: right;\">\n",
       "      <th></th>\n",
       "      <th>사용자 고유번호</th>\n",
       "      <th>측정일자</th>\n",
       "      <th>측정시간</th>\n",
       "      <th>성별</th>\n",
       "      <th>사용자 출생년도</th>\n",
       "      <th>행정동명</th>\n",
       "      <th>수축 혈압</th>\n",
       "      <th>이완 혈압</th>\n",
       "      <th>맥박</th>\n",
       "      <th>측정연도</th>\n",
       "      <th>나이</th>\n",
       "    </tr>\n",
       "  </thead>\n",
       "  <tbody>\n",
       "    <tr>\n",
       "      <th>0</th>\n",
       "      <td>CA5E614540CE0769E0535F00A8C08588</td>\n",
       "      <td>2021-08-30</td>\n",
       "      <td>14:17</td>\n",
       "      <td>M</td>\n",
       "      <td>1994</td>\n",
       "      <td>나성동</td>\n",
       "      <td>128</td>\n",
       "      <td>78</td>\n",
       "      <td>92.0</td>\n",
       "      <td>2021</td>\n",
       "      <td>29</td>\n",
       "    </tr>\n",
       "    <tr>\n",
       "      <th>1</th>\n",
       "      <td>CAD4E5E5AE8D7CACE0535F00A8C075E0</td>\n",
       "      <td>2021-08-31</td>\n",
       "      <td>14:10</td>\n",
       "      <td>F</td>\n",
       "      <td>1983</td>\n",
       "      <td>종촌동</td>\n",
       "      <td>101</td>\n",
       "      <td>55</td>\n",
       "      <td>68.0</td>\n",
       "      <td>2021</td>\n",
       "      <td>40</td>\n",
       "    </tr>\n",
       "    <tr>\n",
       "      <th>2</th>\n",
       "      <td>CAD50BA68DA78C38E0535F00A8C01524</td>\n",
       "      <td>2021-08-31</td>\n",
       "      <td>14:19</td>\n",
       "      <td>F</td>\n",
       "      <td>1981</td>\n",
       "      <td>종촌동</td>\n",
       "      <td>117</td>\n",
       "      <td>83</td>\n",
       "      <td>86.0</td>\n",
       "      <td>2021</td>\n",
       "      <td>42</td>\n",
       "    </tr>\n",
       "    <tr>\n",
       "      <th>5</th>\n",
       "      <td>CAD72451510337B6E0535F00A8C02A56</td>\n",
       "      <td>2021-09-01</td>\n",
       "      <td>21:06</td>\n",
       "      <td>M</td>\n",
       "      <td>1952</td>\n",
       "      <td>한솔동</td>\n",
       "      <td>135</td>\n",
       "      <td>68</td>\n",
       "      <td>62.0</td>\n",
       "      <td>2021</td>\n",
       "      <td>71</td>\n",
       "    </tr>\n",
       "    <tr>\n",
       "      <th>6</th>\n",
       "      <td>CAD9C1C2704714CBE0535F00A8C0DEC1</td>\n",
       "      <td>2021-08-31</td>\n",
       "      <td>20:01</td>\n",
       "      <td>M</td>\n",
       "      <td>1978</td>\n",
       "      <td>한솔동</td>\n",
       "      <td>120</td>\n",
       "      <td>80</td>\n",
       "      <td>NaN</td>\n",
       "      <td>2021</td>\n",
       "      <td>45</td>\n",
       "    </tr>\n",
       "  </tbody>\n",
       "</table>\n",
       "</div>"
      ],
      "text/plain": [
       "                           사용자 고유번호       측정일자   측정시간 성별  사용자 출생년도 행정동명  \\\n",
       "0  CA5E614540CE0769E0535F00A8C08588 2021-08-30  14:17  M      1994  나성동   \n",
       "1  CAD4E5E5AE8D7CACE0535F00A8C075E0 2021-08-31  14:10  F      1983  종촌동   \n",
       "2  CAD50BA68DA78C38E0535F00A8C01524 2021-08-31  14:19  F      1981  종촌동   \n",
       "5  CAD72451510337B6E0535F00A8C02A56 2021-09-01  21:06  M      1952  한솔동   \n",
       "6  CAD9C1C2704714CBE0535F00A8C0DEC1 2021-08-31  20:01  M      1978  한솔동   \n",
       "\n",
       "   수축 혈압  이완 혈압    맥박  측정연도  나이  \n",
       "0    128     78  92.0  2021  29  \n",
       "1    101     55  68.0  2021  40  \n",
       "2    117     83  86.0  2021  42  \n",
       "5    135     68  62.0  2021  71  \n",
       "6    120     80   NaN  2021  45  "
      ]
     },
     "execution_count": 25,
     "metadata": {},
     "output_type": "execute_result"
    }
   ],
   "source": [
    "# IQR을 이용한 혈압 이상치 제거\n",
    "def remove_outliers(df, column_name):\n",
    "    Q1 = df[column_name].quantile(0.25)\n",
    "    Q3 = df[column_name].quantile(0.75)\n",
    "    IQR = Q3 - Q1\n",
    "    lower = Q1 - 1.5 * IQR\n",
    "    upper = Q3 + 1.5 * IQR\n",
    "    filtered_df = df[(df[column_name] >= lower) & (df[column_name] <= upper)]\n",
    "    return filtered_df\n",
    "\n",
    "# 수축기 혈압과 이완기 혈압의 이상치 제거\n",
    "df_blood_cleaned = remove_outliers(df_blood, '수축 혈압')\n",
    "df_blood_cleaned = remove_outliers(df_blood_cleaned, '이완 혈압')\n",
    "\n",
    "# 이상치 제거 후 깨끗한 데이터 확인\n",
    "df_blood_cleaned.head()\n"
   ]
  },
  {
   "cell_type": "markdown",
   "id": "85c8a6d1-59cd-461e-9759-5c5f7d580c08",
   "metadata": {},
   "source": [
    "#### IQR을 이용해서 제거한 이상치로만 만든 데이터셋을 저장함\n",
    "##### 수축기 혈압 이상치와 이완기 혈압 이상치를 concat으로 합성함"
   ]
  },
  {
   "cell_type": "code",
   "execution_count": 27,
   "id": "7b9ed570-4c73-48f1-9ba3-eed2ea9c20fb",
   "metadata": {},
   "outputs": [
    {
     "name": "stdout",
     "output_type": "stream",
     "text": [
      "                               사용자 고유번호       측정일자   측정시간 성별  사용자 출생년도 행정동명  \\\n",
      "3      CAD71E638BAC342BE0535F00A8C05272 2021-08-31  16:48  M      1980  한솔동   \n",
      "4      CAD72451510337B6E0535F00A8C02A56 2021-08-31  17:00  M      1952  한솔동   \n",
      "8      CAEEA89380A90716E0535F00A8C0F342 2021-09-01  20:58  F      1957  한솔동   \n",
      "9      CAFCD67A8E9F55EAE0535F00A8C04C8B 2021-09-02  14:19  F      1990  고운동   \n",
      "11     CA4C04225E405C30E0535F00A8C03ECD 2021-09-02  18:44  F      1995  다정동   \n",
      "...                                 ...        ...    ... ..       ...  ...   \n",
      "53054  EC65AE60B3E49557E0535F00A8C0A54A 2023-12-28  11:57  M      1979  고운동   \n",
      "53197  FFA24CA844D539EFE0535F00A8C01BB6 2023-12-29  00:00  M      1952  도담동   \n",
      "53425  F57EF67EA7B4C24EE0535F00A8C0BAFE 2023-12-30  07:53  M      1983  보람동   \n",
      "53525  EC65AE60B3E49557E0535F00A8C0A54A 2023-12-30  17:22  M      1979  고운동   \n",
      "53727  EC65AE60B3E49557E0535F00A8C0A54A 2023-12-31  19:16  M      1979  고운동   \n",
      "\n",
      "       수축 혈압  이완 혈압    맥박  측정연도  나이  \n",
      "3        157     96  65.0  2021  43  \n",
      "4        139     68  55.0  2021  71  \n",
      "8        136     64  61.0  2021  66  \n",
      "9         80     48  88.0  2021  33  \n",
      "11       158     88  91.0  2021  28  \n",
      "...      ...    ...   ...   ...  ..  \n",
      "53054    134     98   NaN  2023  44  \n",
      "53197    124     52   NaN  2023  71  \n",
      "53425    110     52  98.0  2023  40  \n",
      "53525    130     98   NaN  2023  44  \n",
      "53727    131     97   NaN  2023  44  \n",
      "\n",
      "[7004 rows x 11 columns]\n"
     ]
    }
   ],
   "source": [
    "# IQR을 이용한 혈압 이상치 제거 및 이상치 추출 함수\n",
    "def extract_outliers(df, column_name):\n",
    "    Q1 = df[column_name].quantile(0.25)\n",
    "    Q3 = df[column_name].quantile(0.75)\n",
    "    IQR = Q3 - Q1\n",
    "    lower = Q1 - 1.5 * IQR\n",
    "    upper = Q3 + 1.5 * IQR\n",
    "    outliers_df = df[(df[column_name] < lower) | (df[column_name] > upper)]\n",
    "    return outliers_df\n",
    "\n",
    "# 수축기 혈압과 이완기 혈압의 이상치 추출\n",
    "outliers_systolic = extract_outliers(df_blood, '수축 혈압')\n",
    "outliers_diastolic = extract_outliers(df_blood, '이완 혈압')\n",
    "\n",
    "# 두 개의 이상치 DataFrame을 합쳐서 중복되지 않도록 생성\n",
    "outliers_combined = pd.concat([outliers_systolic, outliers_diastolic]).drop_duplicates()\n",
    "\n",
    "# 결과 확인\n",
    "print(outliers_combined)\n"
   ]
  },
  {
   "cell_type": "code",
   "execution_count": 28,
   "id": "b2d580ac-4aba-4a52-85f7-4f16709f1e01",
   "metadata": {},
   "outputs": [
    {
     "name": "stdout",
     "output_type": "stream",
     "text": [
      "<class 'pandas.core.frame.DataFrame'>\n",
      "Index: 7004 entries, 3 to 53727\n",
      "Data columns (total 11 columns):\n",
      " #   Column    Non-Null Count  Dtype         \n",
      "---  ------    --------------  -----         \n",
      " 0   사용자 고유번호  7004 non-null   object        \n",
      " 1   측정일자      7004 non-null   datetime64[ns]\n",
      " 2   측정시간      7004 non-null   object        \n",
      " 3   성별        7004 non-null   object        \n",
      " 4   사용자 출생년도  7004 non-null   int64         \n",
      " 5   행정동명      7004 non-null   object        \n",
      " 6   수축 혈압     7004 non-null   int64         \n",
      " 7   이완 혈압     7004 non-null   int64         \n",
      " 8   맥박        5226 non-null   float64       \n",
      " 9   측정연도      7004 non-null   int32         \n",
      " 10  나이        7004 non-null   int32         \n",
      "dtypes: datetime64[ns](1), float64(1), int32(2), int64(3), object(4)\n",
      "memory usage: 601.9+ KB\n"
     ]
    }
   ],
   "source": [
    "# 이상치 데이터를 CSV 파일로 저장\n",
    "outliers_combined.to_csv('data/이상치_데이터.csv', index=False)\n",
    "outliers_combined.info()"
   ]
  },
  {
   "cell_type": "code",
   "execution_count": 29,
   "id": "225031e1-85cd-4af5-bb00-1ec6fb336991",
   "metadata": {},
   "outputs": [
    {
     "data": {
      "image/png": "[encoded data removed]",
      "text/plain": [
       "<Figure size 1000x600 with 1 Axes>"
      ]
     },
     "metadata": {},
     "output_type": "display_data"
    }
   ],
   "source": [
    "# 혈압 이상치 제거 전 수축기  혈압과 이완기 혈압 Boxplot 그리기\n",
    "plt.figure(figsize=(10, 6))\n",
    "df_blood[['수축 혈압', '이완 혈압']].boxplot()\n",
    "plt.title('이상치 제거 전 수축기 혈압과 이완기 혈압의 Boxplot')\n",
    "plt.show()\n"
   ]
  },
  {
   "cell_type": "code",
   "execution_count": 30,
   "id": "6ad6bd2f-3c8a-4cad-8df8-859cf95e3261",
   "metadata": {},
   "outputs": [
    {
     "data": {
      "image/png": "[encoded data removed]",
      "text/plain": [
       "<Figure size 1000x600 with 1 Axes>"
      ]
     },
     "metadata": {},
     "output_type": "display_data"
    }
   ],
   "source": [
    "# 혈압 이상치 제거 후 박스플롯\n",
    "plt.figure(figsize=(10, 6))\n",
    "df_blood_cleaned[['수축 혈압', '이완 혈압']].boxplot()\n",
    "plt.title('이상치 제거 후 수축기 혈압과 이완기 혈압의 Boxplot')\n",
    "plt.show()"
   ]
  },
  {
   "cell_type": "code",
   "execution_count": 31,
   "id": "da268cbd-5a6f-415c-9d35-c5acd5ea4a90",
   "metadata": {},
   "outputs": [
    {
     "data": {
      "image/png": "[encoded data removed]",
      "text/plain": [
       "<Figure size 1000x600 with 1 Axes>"
      ]
     },
     "metadata": {},
     "output_type": "display_data"
    }
   ],
   "source": [
    "# 혈압 이상치 제거 전 히스토그램\n",
    "plt.figure(figsize=(10, 6))\n",
    "df_blood['수축 혈압'].plot.hist(bins=30, alpha=0.5, label='수축기 혈압')\n",
    "df_blood['이완 혈압'].plot.hist(bins=30, alpha=0.5, label='이완기 혈압')\n",
    "plt.legend()\n",
    "plt.title('이상치 제거 전 혈압 Histogram')\n",
    "plt.xlabel('혈압 (mmHg)')\n",
    "plt.show()\n",
    "\n"
   ]
  },
  {
   "cell_type": "code",
   "execution_count": 32,
   "id": "0cfb6b50-28ef-480f-a98d-4fb95354c57a",
   "metadata": {},
   "outputs": [
    {
     "data": {
      "image/png": "[encoded data removed]",
      "text/plain": [
       "<Figure size 1000x600 with 1 Axes>"
      ]
     },
     "metadata": {},
     "output_type": "display_data"
    }
   ],
   "source": [
    "# 혈압 이상치 제거 후 히스토그램\n",
    "plt.figure(figsize=(10, 6))\n",
    "df_blood_cleaned['수축 혈압'].plot.hist(bins=30, alpha=0.5, label='수축기 혈압')\n",
    "df_blood_cleaned['이완 혈압'].plot.hist(bins=30, alpha=0.5, label='이완기 혈압')\n",
    "plt.legend()\n",
    "plt.hist(df_blood['수축 혈압'], bins=20, color='skyblue', edgecolor='black')  # 히스토그램 색상과 테두리 설정\n",
    "plt.hist(df_blood['이완 혈압'], bins=20, color='orange', edgecolor='black')\n",
    "plt.title('이상치 제거 후 혈압 Histogram')\n",
    "plt.xlabel('혈압 (mmHg)')\n",
    "plt.show()"
   ]
  },
  {
   "cell_type": "code",
   "execution_count": 33,
   "id": "1420453f-e6c2-4c21-84f7-3394f98aa480",
   "metadata": {},
   "outputs": [
    {
     "data": {
      "text/plain": [
       "수축 혈압\n",
       "61     1\n",
       "64     1\n",
       "67     1\n",
       "69     1\n",
       "71     1\n",
       "      ..\n",
       "217    1\n",
       "224    1\n",
       "225    1\n",
       "232    1\n",
       "244    1\n",
       "Name: count, Length: 133, dtype: int64"
      ]
     },
     "execution_count": 33,
     "metadata": {},
     "output_type": "execute_result"
    }
   ],
   "source": [
    "# 혈압 이상치 제거 전 Value Counts와 Bar Plot\n",
    "bp_counts = df_blood['수축 혈압'].value_counts().sort_index()\n",
    "bp_counts"
   ]
  },
  {
   "cell_type": "code",
   "execution_count": 34,
   "id": "278c2cd4-c31e-491d-b35d-03f8d0c89739",
   "metadata": {},
   "outputs": [
    {
     "data": {
      "image/png": "[encoded data removed]",
      "text/plain": [
       "<Figure size 1200x600 with 1 Axes>"
      ]
     },
     "metadata": {},
     "output_type": "display_data"
    }
   ],
   "source": [
    "# 혈압 이상치 제거 전 value_counts를 이용한 Bar Plot 그리기\n",
    "plt.figure(figsize=(12, 6))\n",
    "bp_counts.plot.bar()\n",
    "plt.title('이상치 제거 전 수축기 혈압의 분포')\n",
    "plt.xlabel('수축 혈압(mmHg)')\n",
    "plt.ylabel('인원수')\n",
    "\n",
    "# x축 레이블 회전\n",
    "plt.xticks(rotation=45)  # 45도 회전\n",
    "\n",
    "plt.show()\n"
   ]
  },
  {
   "cell_type": "code",
   "execution_count": 35,
   "id": "0005d7c6-3a68-4956-8baf-691a3aaa94b1",
   "metadata": {},
   "outputs": [
    {
     "data": {
      "image/png": "[encoded data removed]",
      "text/plain": [
       "<Figure size 1200x600 with 1 Axes>"
      ]
     },
     "metadata": {},
     "output_type": "display_data"
    }
   ],
   "source": [
    "# 혈압 이상치 제거 후 Value Counts와 Bar Plot\n",
    "bp_counts = df_blood_cleaned['수축 혈압'].value_counts().sort_index()\n",
    "\n",
    "# Bar Plot 그리기\n",
    "plt.figure(figsize=(12, 6))\n",
    "bp_counts.plot.bar()\n",
    "plt.title('이상치 제거 후 수축기 혈압의 분포')\n",
    "plt.xlabel('수축 혈압(mmHg)')\n",
    "plt.ylabel('인원수')\n",
    "\n",
    "# x축 레이블 회전\n",
    "plt.xticks(rotation=45)\n",
    "\n",
    "plt.show()\n"
   ]
  },
  {
   "cell_type": "code",
   "execution_count": 36,
   "id": "66b6df0b-ec53-4945-8eec-d68c0fe21822",
   "metadata": {},
   "outputs": [
    {
     "data": {
      "text/html": [
       "<div>\n",
       "<style scoped>\n",
       "    .dataframe tbody tr th:only-of-type {\n",
       "        vertical-align: middle;\n",
       "    }\n",
       "\n",
       "    .dataframe tbody tr th {\n",
       "        vertical-align: top;\n",
       "    }\n",
       "\n",
       "    .dataframe thead th {\n",
       "        text-align: right;\n",
       "    }\n",
       "</style>\n",
       "<table border=\"1\" class=\"dataframe\">\n",
       "  <thead>\n",
       "    <tr style=\"text-align: right;\">\n",
       "      <th></th>\n",
       "      <th>사용자 고유번호</th>\n",
       "      <th>측정일자</th>\n",
       "      <th>측정시간</th>\n",
       "      <th>성별</th>\n",
       "      <th>사용자 출생년도</th>\n",
       "      <th>행정동명</th>\n",
       "      <th>수축 혈압</th>\n",
       "      <th>이완 혈압</th>\n",
       "      <th>맥박</th>\n",
       "      <th>측정연도</th>\n",
       "      <th>나이</th>\n",
       "    </tr>\n",
       "  </thead>\n",
       "  <tbody>\n",
       "    <tr>\n",
       "      <th>0</th>\n",
       "      <td>CA5E614540CE0769E0535F00A8C08588</td>\n",
       "      <td>2021-08-30</td>\n",
       "      <td>14:17</td>\n",
       "      <td>M</td>\n",
       "      <td>1994</td>\n",
       "      <td>나성동</td>\n",
       "      <td>128</td>\n",
       "      <td>78</td>\n",
       "      <td>92.0</td>\n",
       "      <td>2021</td>\n",
       "      <td>29</td>\n",
       "    </tr>\n",
       "    <tr>\n",
       "      <th>1</th>\n",
       "      <td>CAD4E5E5AE8D7CACE0535F00A8C075E0</td>\n",
       "      <td>2021-08-31</td>\n",
       "      <td>14:10</td>\n",
       "      <td>F</td>\n",
       "      <td>1983</td>\n",
       "      <td>종촌동</td>\n",
       "      <td>101</td>\n",
       "      <td>55</td>\n",
       "      <td>68.0</td>\n",
       "      <td>2021</td>\n",
       "      <td>40</td>\n",
       "    </tr>\n",
       "    <tr>\n",
       "      <th>2</th>\n",
       "      <td>CAD50BA68DA78C38E0535F00A8C01524</td>\n",
       "      <td>2021-08-31</td>\n",
       "      <td>14:19</td>\n",
       "      <td>F</td>\n",
       "      <td>1981</td>\n",
       "      <td>종촌동</td>\n",
       "      <td>117</td>\n",
       "      <td>83</td>\n",
       "      <td>86.0</td>\n",
       "      <td>2021</td>\n",
       "      <td>42</td>\n",
       "    </tr>\n",
       "    <tr>\n",
       "      <th>3</th>\n",
       "      <td>CAD71E638BAC342BE0535F00A8C05272</td>\n",
       "      <td>2021-08-31</td>\n",
       "      <td>16:48</td>\n",
       "      <td>M</td>\n",
       "      <td>1980</td>\n",
       "      <td>한솔동</td>\n",
       "      <td>157</td>\n",
       "      <td>96</td>\n",
       "      <td>65.0</td>\n",
       "      <td>2021</td>\n",
       "      <td>43</td>\n",
       "    </tr>\n",
       "    <tr>\n",
       "      <th>4</th>\n",
       "      <td>CAD72451510337B6E0535F00A8C02A56</td>\n",
       "      <td>2021-08-31</td>\n",
       "      <td>17:00</td>\n",
       "      <td>M</td>\n",
       "      <td>1952</td>\n",
       "      <td>한솔동</td>\n",
       "      <td>139</td>\n",
       "      <td>68</td>\n",
       "      <td>55.0</td>\n",
       "      <td>2021</td>\n",
       "      <td>71</td>\n",
       "    </tr>\n",
       "  </tbody>\n",
       "</table>\n",
       "</div>"
      ],
      "text/plain": [
       "                           사용자 고유번호       측정일자   측정시간 성별  사용자 출생년도 행정동명  \\\n",
       "0  CA5E614540CE0769E0535F00A8C08588 2021-08-30  14:17  M      1994  나성동   \n",
       "1  CAD4E5E5AE8D7CACE0535F00A8C075E0 2021-08-31  14:10  F      1983  종촌동   \n",
       "2  CAD50BA68DA78C38E0535F00A8C01524 2021-08-31  14:19  F      1981  종촌동   \n",
       "3  CAD71E638BAC342BE0535F00A8C05272 2021-08-31  16:48  M      1980  한솔동   \n",
       "4  CAD72451510337B6E0535F00A8C02A56 2021-08-31  17:00  M      1952  한솔동   \n",
       "\n",
       "   수축 혈압  이완 혈압    맥박  측정연도  나이  \n",
       "0    128     78  92.0  2021  29  \n",
       "1    101     55  68.0  2021  40  \n",
       "2    117     83  86.0  2021  42  \n",
       "3    157     96  65.0  2021  43  \n",
       "4    139     68  55.0  2021  71  "
      ]
     },
     "execution_count": 36,
     "metadata": {},
     "output_type": "execute_result"
    }
   ],
   "source": [
    "df_blood.head()"
   ]
  },
  {
   "cell_type": "code",
   "execution_count": 37,
   "id": "d76086bb-4ad3-4085-a512-85849a6521f9",
   "metadata": {},
   "outputs": [
    {
     "data": {
      "text/html": [
       "<div>\n",
       "<style scoped>\n",
       "    .dataframe tbody tr th:only-of-type {\n",
       "        vertical-align: middle;\n",
       "    }\n",
       "\n",
       "    .dataframe tbody tr th {\n",
       "        vertical-align: top;\n",
       "    }\n",
       "\n",
       "    .dataframe thead th {\n",
       "        text-align: right;\n",
       "    }\n",
       "</style>\n",
       "<table border=\"1\" class=\"dataframe\">\n",
       "  <thead>\n",
       "    <tr style=\"text-align: right;\">\n",
       "      <th></th>\n",
       "      <th>사용자 고유번호</th>\n",
       "      <th>측정일자</th>\n",
       "      <th>측정시간</th>\n",
       "      <th>성별</th>\n",
       "      <th>사용자 출생년도</th>\n",
       "      <th>행정동명</th>\n",
       "      <th>수축 혈압</th>\n",
       "      <th>이완 혈압</th>\n",
       "      <th>맥박</th>\n",
       "      <th>측정연도</th>\n",
       "      <th>나이</th>\n",
       "    </tr>\n",
       "  </thead>\n",
       "  <tbody>\n",
       "    <tr>\n",
       "      <th>53773</th>\n",
       "      <td>CF28FDE31F340DF7E0535F00A8C0BFE5</td>\n",
       "      <td>2023-12-31</td>\n",
       "      <td>23:39</td>\n",
       "      <td>M</td>\n",
       "      <td>1979</td>\n",
       "      <td>새롬동</td>\n",
       "      <td>120</td>\n",
       "      <td>80</td>\n",
       "      <td>NaN</td>\n",
       "      <td>2023</td>\n",
       "      <td>44</td>\n",
       "    </tr>\n",
       "    <tr>\n",
       "      <th>53774</th>\n",
       "      <td>D97915F0A035D41DE0535F00A8C06243</td>\n",
       "      <td>2023-12-31</td>\n",
       "      <td>23:42</td>\n",
       "      <td>F</td>\n",
       "      <td>1982</td>\n",
       "      <td>다정동</td>\n",
       "      <td>120</td>\n",
       "      <td>80</td>\n",
       "      <td>NaN</td>\n",
       "      <td>2023</td>\n",
       "      <td>41</td>\n",
       "    </tr>\n",
       "    <tr>\n",
       "      <th>53775</th>\n",
       "      <td>ED2C36A4C579AADFE0535F00A8C071AE</td>\n",
       "      <td>2023-12-31</td>\n",
       "      <td>23:49</td>\n",
       "      <td>F</td>\n",
       "      <td>1976</td>\n",
       "      <td>새롬동</td>\n",
       "      <td>119</td>\n",
       "      <td>78</td>\n",
       "      <td>NaN</td>\n",
       "      <td>2023</td>\n",
       "      <td>47</td>\n",
       "    </tr>\n",
       "    <tr>\n",
       "      <th>53776</th>\n",
       "      <td>EC60BDA0AB32BDE8E0535F00A8C0CB28</td>\n",
       "      <td>2023-12-31</td>\n",
       "      <td>23:50</td>\n",
       "      <td>F</td>\n",
       "      <td>1982</td>\n",
       "      <td>소담동</td>\n",
       "      <td>117</td>\n",
       "      <td>73</td>\n",
       "      <td>NaN</td>\n",
       "      <td>2023</td>\n",
       "      <td>41</td>\n",
       "    </tr>\n",
       "    <tr>\n",
       "      <th>53777</th>\n",
       "      <td>ED47D5D202D28AB6E0535F00A8C0CE6C</td>\n",
       "      <td>2023-12-31</td>\n",
       "      <td>23:52</td>\n",
       "      <td>M</td>\n",
       "      <td>1974</td>\n",
       "      <td>새롬동</td>\n",
       "      <td>150</td>\n",
       "      <td>101</td>\n",
       "      <td>NaN</td>\n",
       "      <td>2023</td>\n",
       "      <td>49</td>\n",
       "    </tr>\n",
       "  </tbody>\n",
       "</table>\n",
       "</div>"
      ],
      "text/plain": [
       "                               사용자 고유번호       측정일자   측정시간 성별  사용자 출생년도 행정동명  \\\n",
       "53773  CF28FDE31F340DF7E0535F00A8C0BFE5 2023-12-31  23:39  M      1979  새롬동   \n",
       "53774  D97915F0A035D41DE0535F00A8C06243 2023-12-31  23:42  F      1982  다정동   \n",
       "53775  ED2C36A4C579AADFE0535F00A8C071AE 2023-12-31  23:49  F      1976  새롬동   \n",
       "53776  EC60BDA0AB32BDE8E0535F00A8C0CB28 2023-12-31  23:50  F      1982  소담동   \n",
       "53777  ED47D5D202D28AB6E0535F00A8C0CE6C 2023-12-31  23:52  M      1974  새롬동   \n",
       "\n",
       "       수축 혈압  이완 혈압  맥박  측정연도  나이  \n",
       "53773    120     80 NaN  2023  44  \n",
       "53774    120     80 NaN  2023  41  \n",
       "53775    119     78 NaN  2023  47  \n",
       "53776    117     73 NaN  2023  41  \n",
       "53777    150    101 NaN  2023  49  "
      ]
     },
     "execution_count": 37,
     "metadata": {},
     "output_type": "execute_result"
    }
   ],
   "source": [
    "df_blood.tail()"
   ]
  },
  {
   "cell_type": "code",
   "execution_count": 38,
   "id": "3f4d5860-d281-4944-8b81-f86f6520a999",
   "metadata": {},
   "outputs": [
    {
     "name": "stdout",
     "output_type": "stream",
     "text": [
      "         수축 혈압      이완 혈압\n",
      "나이                       \n",
      "8   113.181818  74.636364\n",
      "11  109.041667  75.020833\n",
      "12  112.400000  68.400000\n",
      "13  109.400000  66.000000\n",
      "14  113.625000  69.750000\n",
      "..         ...        ...\n",
      "73  125.833333  76.000000\n",
      "74  120.250000  67.666667\n",
      "75  126.500000  54.750000\n",
      "76  121.500000  64.000000\n",
      "79   98.777778  54.888889\n",
      "\n",
      "[68 rows x 2 columns]\n"
     ]
    }
   ],
   "source": [
    "# 혈압 연령대별 평균 확인\n",
    "age_group = df_blood.groupby('나이')[['수축 혈압', '이완 혈압']].mean()\n",
    "print(age_group)\n"
   ]
  },
  {
   "cell_type": "code",
   "execution_count": 39,
   "id": "c14f3af7-ea0c-43c7-a76f-dc3fcae8be1d",
   "metadata": {},
   "outputs": [
    {
     "name": "stderr",
     "output_type": "stream",
     "text": [
      "C:\\Users\\user\\AppData\\Local\\Temp\\ipykernel_4352\\2233813092.py:5: FutureWarning: The default of observed=False is deprecated and will be changed to True in a future version of pandas. Pass observed=False to retain current behavior or observed=True to adopt the future default and silence this warning.\n",
      "  age_group = df_blood.groupby('나이 구간')[['수축 혈압', '이완 혈압']].mean()\n"
     ]
    },
    {
     "data": {
      "image/png": "[encoded data removed]",
      "text/plain": [
       "<Figure size 1000x600 with 1 Axes>"
      ]
     },
     "metadata": {},
     "output_type": "display_data"
    }
   ],
   "source": [
    "# 나이를 5살 간격으로 나누는 구간 설정\n",
    "bins = range(0, df_blood['나이'].max() + 5, 5)\n",
    "labels = [f'{i}-{i+4}' for i in bins[:-1]]\n",
    "df_blood['나이 구간'] = pd.cut(df_blood['나이'], bins=bins, labels=labels, right=False)\n",
    "age_group = df_blood.groupby('나이 구간')[['수축 혈압', '이완 혈압']].mean()\n",
    "\n",
    "# 연령대별 수축기 혈압의 평균 시각화\n",
    "plt.figure(figsize=(10, 6))\n",
    "age_group['수축 혈압'].plot(kind='bar', color='skyblue')\n",
    "plt.title('연령대별 평균 수축기 혈압')\n",
    "plt.xlabel('나이 구간')\n",
    "plt.ylabel('수축 혈압(mmHg)')\n",
    "plt.xticks(rotation=45)\n",
    "plt.show()\n"
   ]
  },
  {
   "cell_type": "code",
   "execution_count": 40,
   "id": "b14e07ed-1911-4823-be32-2b23490cdd2b",
   "metadata": {},
   "outputs": [
    {
     "data": {
      "image/png": "[encoded data removed]",
      "text/plain": [
       "<Figure size 1000x600 with 1 Axes>"
      ]
     },
     "metadata": {},
     "output_type": "display_data"
    }
   ],
   "source": [
    "# 연령대별 이완기 혈압의 평균 시각화\n",
    "plt.figure(figsize=(10, 6))\n",
    "age_group['이완 혈압'].plot(kind='bar', color='lightgreen')\n",
    "plt.title('연령대별 평균 이완기 혈압')\n",
    "plt.xlabel('나이 구간')\n",
    "plt.ylabel('이완 혈압(mmHg)')\n",
    "plt.xticks(rotation=45)\n",
    "plt.show()"
   ]
  },
  {
   "cell_type": "code",
   "execution_count": 41,
   "id": "335bc2cc-542f-4ed1-8a01-7bae2800850a",
   "metadata": {},
   "outputs": [
    {
     "data": {
      "text/html": [
       "<div>\n",
       "<style scoped>\n",
       "    .dataframe tbody tr th:only-of-type {\n",
       "        vertical-align: middle;\n",
       "    }\n",
       "\n",
       "    .dataframe tbody tr th {\n",
       "        vertical-align: top;\n",
       "    }\n",
       "\n",
       "    .dataframe thead th {\n",
       "        text-align: right;\n",
       "    }\n",
       "</style>\n",
       "<table border=\"1\" class=\"dataframe\">\n",
       "  <thead>\n",
       "    <tr style=\"text-align: right;\">\n",
       "      <th></th>\n",
       "      <th>사용자 고유번호</th>\n",
       "      <th>측정일자</th>\n",
       "      <th>측정시간</th>\n",
       "      <th>성별</th>\n",
       "      <th>사용자 출생년도</th>\n",
       "      <th>행정동명</th>\n",
       "      <th>수축 혈압</th>\n",
       "      <th>이완 혈압</th>\n",
       "      <th>맥박</th>\n",
       "      <th>측정연도</th>\n",
       "      <th>나이</th>\n",
       "      <th>나이 구간</th>\n",
       "    </tr>\n",
       "  </thead>\n",
       "  <tbody>\n",
       "    <tr>\n",
       "      <th>0</th>\n",
       "      <td>CA5E614540CE0769E0535F00A8C08588</td>\n",
       "      <td>2021-08-30</td>\n",
       "      <td>14:17</td>\n",
       "      <td>M</td>\n",
       "      <td>1994</td>\n",
       "      <td>나성동</td>\n",
       "      <td>128</td>\n",
       "      <td>78</td>\n",
       "      <td>92.0</td>\n",
       "      <td>2021</td>\n",
       "      <td>29</td>\n",
       "      <td>25-29</td>\n",
       "    </tr>\n",
       "  </tbody>\n",
       "</table>\n",
       "</div>"
      ],
      "text/plain": [
       "                           사용자 고유번호       측정일자   측정시간 성별  사용자 출생년도 행정동명  \\\n",
       "0  CA5E614540CE0769E0535F00A8C08588 2021-08-30  14:17  M      1994  나성동   \n",
       "\n",
       "   수축 혈압  이완 혈압    맥박  측정연도  나이  나이 구간  \n",
       "0    128     78  92.0  2021  29  25-29  "
      ]
     },
     "execution_count": 41,
     "metadata": {},
     "output_type": "execute_result"
    }
   ],
   "source": [
    "df_blood.head(1)"
   ]
  },
  {
   "cell_type": "code",
   "execution_count": 42,
   "id": "f7e37f61-83fa-43b6-b6fe-7845c303d165",
   "metadata": {},
   "outputs": [
    {
     "name": "stdout",
     "output_type": "stream",
     "text": [
      "           수축 혈압      이완 혈압\n",
      "행정동명                       \n",
      "고운동   116.737715  75.388702\n",
      "금남면   113.722222  68.166667\n",
      "나성동   121.869969  77.659830\n",
      "다정동   119.010294  76.306066\n",
      "대평동   121.052461  77.566388\n",
      "도담동   119.772025  74.207915\n",
      "반곡동   120.440465  75.137948\n",
      "보람동   118.905713  75.115861\n",
      "부강면   114.250000  67.800000\n",
      "새롬동   115.424503  72.379735\n",
      "소담동   120.887755  78.537609\n",
      "아름동   117.614114  74.423580\n",
      "어진동   125.354125  80.671026\n",
      "연기면   104.175503  58.592322\n",
      "연동면   134.571429  84.428571\n",
      "연서면   121.958333  73.583333\n",
      "장군면   126.301653  76.888430\n",
      "전동면   138.000000  61.500000\n",
      "전의면   125.000000  78.804878\n",
      "조치원읍  120.076923  77.203526\n",
      "종촌동   118.334810  72.631216\n",
      "한솔동   118.107613  72.982143\n",
      "해밀동   117.307933  72.606496\n"
     ]
    },
    {
     "data": {
      "image/png": "[encoded data removed]",
      "text/plain": [
       "<Figure size 1200x800 with 1 Axes>"
      ]
     },
     "metadata": {},
     "output_type": "display_data"
    }
   ],
   "source": [
    "# 지역별 수축기 및 이완기 혈압의 평균 구하기\n",
    "region_group = df_blood.groupby('행정동명')[['수축 혈압', '이완 혈압']].mean()\n",
    "print(region_group)\n",
    "\n",
    "# 지역별 수축기 및 이완기 혈압 시각화\n",
    "region_group.plot(kind='bar', figsize=(12, 8), color=['salmon', 'lightblue'],rot=(45))\n",
    "plt.title('지역별 평균 혈압')\n",
    "plt.xlabel('행정동명')\n",
    "plt.ylabel('혈압(mmHg)')\n",
    "plt.show()\n"
   ]
  },
  {
   "cell_type": "markdown",
   "id": "5abd2fed-8e6c-417b-9e02-cbe1bd8d0cb5",
   "metadata": {},
   "source": [
    "### 나이 구간별 고혈압 비율 시각화"
   ]
  },
  {
   "cell_type": "code",
   "execution_count": 44,
   "id": "a70a3bbe-575c-4982-be35-7ca69714832c",
   "metadata": {},
   "outputs": [
    {
     "name": "stderr",
     "output_type": "stream",
     "text": [
      "C:\\Users\\user\\AppData\\Local\\Temp\\ipykernel_4352\\2098265942.py:12: FutureWarning: The default of observed=False is deprecated and will be changed to True in a future version of pandas. Pass observed=False to retain current behavior or observed=True to adopt the future default and silence this warning.\n",
      "  age_group_high_bp = df_blood[high_bp].groupby('나이 구간').size() / df_blood.groupby('나이 구간').size()\n",
      "C:\\Users\\user\\AppData\\Local\\Temp\\ipykernel_4352\\2098265942.py:12: FutureWarning: The default of observed=False is deprecated and will be changed to True in a future version of pandas. Pass observed=False to retain current behavior or observed=True to adopt the future default and silence this warning.\n",
      "  age_group_high_bp = df_blood[high_bp].groupby('나이 구간').size() / df_blood.groupby('나이 구간').size()\n"
     ]
    },
    {
     "data": {
      "image/png": "[encoded data removed]",
      "text/plain": [
       "<Figure size 1000x600 with 1 Axes>"
      ]
     },
     "metadata": {},
     "output_type": "display_data"
    }
   ],
   "source": [
    "# 고혈압 기준 정의\n",
    "high_bp = (df_blood['수축 혈압'] >= 140) | (df_blood['이완 혈압'] >= 90)\n",
    "\n",
    "# 나이를 5살 간격으로 나누는 구간 설정\n",
    "bins = range(0, df_blood['나이'].max() + 5, 5)\n",
    "labels = [f'{i}-{i+4}' for i in bins[:-1]]\n",
    "\n",
    "# '나이 구간' 열 생성\n",
    "df_blood['나이 구간'] = pd.cut(df_blood['나이'], bins=bins, labels=labels, right=False)\n",
    "\n",
    "# 나이 구간별 고혈압 비율 계산\n",
    "age_group_high_bp = df_blood[high_bp].groupby('나이 구간').size() / df_blood.groupby('나이 구간').size()\n",
    "\n",
    "# 나이 구간별 고혈압 비율 시각화\n",
    "plt.figure(figsize=(10, 6))\n",
    "age_group_high_bp.plot(kind='bar', color='blue')\n",
    "plt.title('나이 구간별 고혈압 비율')\n",
    "plt.xlabel('나이 구간')\n",
    "plt.ylabel('고혈압 비율')\n",
    "plt.xticks(rotation=45)\n",
    "plt.show()\n"
   ]
  },
  {
   "cell_type": "markdown",
   "id": "5e336f8b-9a46-4338-8550-bdbd2b4e0583",
   "metadata": {},
   "source": [
    "### 성별에 따른 혈압 평균 시각화"
   ]
  },
  {
   "cell_type": "code",
   "execution_count": 122,
   "id": "b66e547d-2e08-470c-9f08-db2d52a7f0a4",
   "metadata": {},
   "outputs": [
    {
     "name": "stdout",
     "output_type": "stream",
     "text": [
      "         수축 혈압      이완 혈압\n",
      "성별                       \n",
      "F   116.223228  72.987699\n",
      "M   121.118262  76.898266\n"
     ]
    },
    {
     "data": {
      "image/png": "[encoded data removed]",
      "text/plain": [
       "<Figure size 800x600 with 1 Axes>"
      ]
     },
     "metadata": {},
     "output_type": "display_data"
    }
   ],
   "source": [
    "# 성별에 따른 수축기 및 이완기 혈압의 평균 구하기\n",
    "gender_group = df_blood.groupby('성별')[['수축 혈압', '이완 혈압']].mean()\n",
    "print(gender_group)\n",
    "\n",
    "# 성별에 따른 혈압 분포 시각화\n",
    "gender_group.plot(kind='bar', figsize=(8, 6), color=['purple', 'cyan'], rot=0)\n",
    "plt.title('성별에 따른 평균 혈압')\n",
    "plt.xlabel('성별')\n",
    "plt.ylabel('혈압(mmHg)')\n",
    "plt.show()\n"
   ]
  },
  {
   "cell_type": "markdown",
   "id": "bba79d9d-866d-4278-9492-081469554894",
   "metadata": {},
   "source": [
    "### 세종시 혈압 이상치 동별 분포 확인"
   ]
  },
  {
   "cell_type": "code",
   "execution_count": 140,
   "id": "d47b5d0f-2547-4173-9507-b4e30514a3cf",
   "metadata": {},
   "outputs": [
    {
     "name": "stdout",
     "output_type": "stream",
     "text": [
      "Outlier Data\n",
      "                           사용자 고유번호        측정일자   측정시간 성별  사용자 출생년도 행정동명  \\\n",
      "0  CAD71E638BAC342BE0535F00A8C05272  2021-08-31  16:48  M      1980  한솔동   \n",
      "1  CAD72451510337B6E0535F00A8C02A56  2021-08-31  17:00  M      1952  한솔동   \n",
      "2  CAEEA89380A90716E0535F00A8C0F342  2021-09-01  20:58  F      1957  한솔동   \n",
      "3  CAFCD67A8E9F55EAE0535F00A8C04C8B  2021-09-02  14:19  F      1990  고운동   \n",
      "4  CA4C04225E405C30E0535F00A8C03ECD  2021-09-02  18:44  F      1995  다정동   \n",
      "\n",
      "   수축 혈압  이완 혈압    맥박  측정연도  나이  \n",
      "0    157     96  65.0  2021  43  \n",
      "1    139     68  55.0  2021  71  \n",
      "2    136     64  61.0  2021  66  \n",
      "3     80     48  88.0  2021  33  \n",
      "4    158     88  91.0  2021  28  \n",
      "\n",
      "Population Data\n",
      "   행정동명    구분    전체인구  지역별전체인구비율    내국인계  지역별내국인비율  전월대비증감      남자     남자구성비  \\\n",
      "0    총합     계  394630   1.000000  388788  1.000000     848  193538  0.497798   \n",
      "1  조치원읍  조치원읍   42154   0.106819   40498  0.104165     -30   21036  0.054107   \n",
      "2   연기면   연기면    2500   0.006335    2409  0.006196      -5    1384  0.003560   \n",
      "3   연동면   연동면    2978   0.007546    2782  0.007156       3    1446  0.003719   \n",
      "4   부강면   부강면    5755   0.014583    5419  0.013938     -27    2982  0.007670   \n",
      "\n",
      "       여자     여자구성비  외국인계  지역별외국인비율  전월증감  외국인남자  외국인여자     세대수  전월대비증감.1  \\\n",
      "0  195250  0.502202  5842  1.000000   -11   3576   2266  162554       393   \n",
      "1   19462  0.050058  1656  0.283465   -17    857    799   20328       -14   \n",
      "2    1025  0.002636    91  0.015577     4     63     28    1451        -8   \n",
      "3    1336  0.003436   196  0.033550     3    158     38    1639         1   \n",
      "4    2437  0.006268   336  0.057515     0    280     56    3065        -9   \n",
      "\n",
      "   세대당인구   비고  \n",
      "0   2.39  NaN  \n",
      "1   1.99  NaN  \n",
      "2   1.66  NaN  \n",
      "3   1.70  NaN  \n",
      "4   1.77  NaN  \n"
     ]
    }
   ],
   "source": [
    "# 데이터 불러오기\n",
    "outlier_data = pd.read_csv('./data/세종특별자치시_혈압 이상치_데이터.csv')\n",
    "population_data = pd.read_excel('./data/2024년_7월_말_기준_인구현황.xlsx')\n",
    "\n",
    "# 데이터 확인\n",
    "print(\"Outlier Data\")\n",
    "print(outlier_data.head())\n",
    "\n",
    "print(\"\\nPopulation Data\")\n",
    "print(population_data.head())\n"
   ]
  },
  {
   "cell_type": "markdown",
   "id": "6c315c82-6292-4b0e-8dbd-2855898813bd",
   "metadata": {},
   "source": [
    "### 세종시 혈압 이상치 동별 분포 비율 비교 시각화"
   ]
  },
  {
   "cell_type": "code",
   "execution_count": 143,
   "id": "dc7e3ce6-de79-440e-84e3-a4b72a0da870",
   "metadata": {},
   "outputs": [
    {
     "name": "stdout",
     "output_type": "stream",
     "text": [
      "    행정동명  이상치 빈도   전체인구  이상치 비율 (%)\n",
      "0    한솔동    1287  18143    7.093645\n",
      "1    새롬동    1031  26479    3.893652\n",
      "2    아름동     736  23383    3.147586\n",
      "3    반곡동     499  28923    1.725271\n",
      "4    고운동     458  35964    1.273496\n",
      "5    다정동     452  28312    1.596496\n",
      "6    도담동     400  24976    1.601537\n",
      "7    종촌동     396  27879    1.420424\n",
      "8    해밀동     352  16612    2.118950\n",
      "9    나성동     276  13176    2.094718\n",
      "10   보람동     209  18924    1.104418\n",
      "11   어진동     177  11278    1.569427\n",
      "12  조치원읍     175  42154    0.415144\n",
      "13   연기면     163   2500    6.520000\n",
      "14   소담동     155  21772    0.711924\n",
      "15   대평동     146  11293    1.292836\n",
      "16   장군면      66   7032    0.938567\n",
      "17   금남면       7   8581    0.081576\n",
      "18   부강면       6   5755    0.104257\n",
      "19   전의면       5   5694    0.087812\n",
      "20   연서면       4   7045    0.056778\n",
      "21   연동면       3   2978    0.100739\n",
      "22   전동면       1   3421    0.029231\n"
     ]
    },
    {
     "data": {
      "image/png": "[encoded data removed]",
      "text/plain": [
       "<Figure size 1200x800 with 1 Axes>"
      ]
     },
     "metadata": {},
     "output_type": "display_data"
    }
   ],
   "source": [
    "# 이상치 데이터에서 행정동별 빈도 계산\n",
    "outlier_counts = outlier_data['행정동명'].value_counts().reset_index()\n",
    "outlier_counts.columns = ['행정동명', '이상치 빈도']\n",
    "\n",
    "# 인구 데이터에서 행정동명별 인구 데이터만 추출\n",
    "population_summary = population_data[['행정동명', '전체인구']].copy()\n",
    "\n",
    "# 이상치 빈도와 인구 데이터 병합\n",
    "comparison_data = pd.merge(outlier_counts, population_summary, on='행정동명', how='left')\n",
    "\n",
    "# 이상치 빈도를 인구 대비 백분율 계산\n",
    "comparison_data['이상치 비율 (%)'] = (comparison_data['이상치 빈도'] / comparison_data['전체인구']) * 100\n",
    "\n",
    "# 결과 확인\n",
    "print(comparison_data)\n",
    "\n",
    "# 시각화\n",
    "plt.figure(figsize=(12, 8))\n",
    "bars = plt.barh(comparison_data['행정동명'], comparison_data['이상치 비율 (%)'],color=plt.cm.viridis(np.linspace(0, 1, len(comparison_data))))\n",
    "plt.xlabel('이상치 비율 (%)')\n",
    "plt.ylabel('행정동명')\n",
    "plt.title('세종시 혈압 이상치 동별 분포 비율 비교')\n",
    "plt.show()\n"
   ]
  },
  {
   "cell_type": "markdown",
   "id": "b6e247d8-c667-46a1-8d8d-f29cd7be98ed",
   "metadata": {},
   "source": [
    "### 세종시 행정동별 남성과 여성 인구 비교"
   ]
  },
  {
   "cell_type": "code",
   "execution_count": 146,
   "id": "fc4efe4c-0488-4bd2-95d1-55dd80f2b0cf",
   "metadata": {},
   "outputs": [
    {
     "data": {
      "image/png": "[encoded data removed]",
      "text/plain": [
       "<Figure size 1400x800 with 1 Axes>"
      ]
     },
     "metadata": {},
     "output_type": "display_data"
    }
   ],
   "source": [
    "# 필요한 데이터만 추출\n",
    "gender_data = population_data[['행정동명', '남자', '여자']].copy()\n",
    "\n",
    "# 막대의 위치 설정\n",
    "x = np.arange(len(gender_data))  # 행정동별 위치\n",
    "width = 0.35  # 막대의 너비\n",
    "\n",
    "# 시각화\n",
    "fig, ax = plt.subplots(figsize=(14, 8))\n",
    "\n",
    "bars1 = ax.bar(x - width/2, gender_data['남자'], width, label='남성', color='skyblue')\n",
    "bars2 = ax.bar(x + width/2, gender_data['여자'], width, label='여성', color='lightcoral')\n",
    "\n",
    "# 레이블 및 제목 설정\n",
    "ax.set_xlabel('행정동명')\n",
    "ax.set_ylabel('인구 수')\n",
    "ax.set_title('세종시 행정동별 남성과 여성 인구 비교')\n",
    "ax.set_xticks(x)\n",
    "ax.set_xticklabels(gender_data['행정동명'], rotation=45, ha=\"right\")\n",
    "ax.legend()\n",
    "\n",
    "# 그래프 보여주기\n",
    "plt.tight_layout()\n",
    "plt.show()\n"
   ]
  },
  {
   "cell_type": "markdown",
   "id": "da929666-5fcf-4c91-b1e7-497c45b94bdb",
   "metadata": {},
   "source": [
    "## 중증 고혈압(수축기) 질환의 기준 정의와 출처\n",
    "\n",
    "#### 고혈압의 정의:\n",
    "###### -정상 혈압: 수축기 혈압 < 120mmHg, 이완기 혈압 < 80mmHg\n",
    "###### -고혈압 전단계: 수축기 혈압 120-139mmHg 또는 이완기 혈압 80-89mmHg\n",
    "###### -1기 고혈압: 수축기 혈압 140-159mmHg 또는 이완기 혈압 90-99mmHg\n",
    "###### -2기 고혈압 (중증 고혈압): 수축기 혈압 ≥ 160mmHg 또는 이완기 혈압 ≥ 100mmHg\n",
    "####   -중증 질환의 기준: 수축기 혈압이 160mmHg 이상이거나 이완기 혈압이 100mmHg 이상일 때\n",
    "####     중증 고혈압으로 분류되며, 이는 즉각적인 치료가 필요한 상태입니다.\n",
    "\n",
    "##### 출처:\n",
    "###### 대한고혈압학회 (Korean Society of Hypertension) 고혈압 진단 기준\n",
    "###### American College of Cardiology/American Heart Association (ACC/AHA) 2017 Hypertension Guidelines\n"
   ]
  },
  {
   "cell_type": "markdown",
   "id": "266a3815-8d2f-47d9-97cc-d6ad5f953b38",
   "metadata": {},
   "source": [
    "### 세종시 행정동별 중증 고혈압 대상자수 시작화"
   ]
  },
  {
   "cell_type": "code",
   "execution_count": 150,
   "id": "155f9662-05fb-4d18-9eba-125ff4cdba41",
   "metadata": {},
   "outputs": [
    {
     "data": {
      "image/png": "[encoded data removed]",
      "text/plain": [
       "<Figure size 1200x800 with 1 Axes>"
      ]
     },
     "metadata": {},
     "output_type": "display_data"
    }
   ],
   "source": [
    "# 데이터 불러오기\n",
    "bp_data = pd.read_csv('./data/세종특별자치시_혈압 이상치_데이터.csv', encoding='utf-8')\n",
    "\n",
    "# 중증 고혈압 기준 적용 (수축기 ≥ 160mmHg 또는 이완기 ≥ 100mmHg)\n",
    "severe = bp_data[(bp_data['수축 혈압'] >= 160) | (bp_data['이완 혈압'] >= 100)]\n",
    "\n",
    "# 행정동별 중증 고혈압 대상자 수 집계\n",
    "severe_counts = severe['행정동명'].value_counts().reset_index()\n",
    "severe_counts.columns = ['행정동명', '중증 고혈압 대상자 수']\n",
    "\n",
    "# 결과 시각화\n",
    "plt.figure(figsize=(12, 8))\n",
    "plt.barh(severe_counts['행정동명'], severe_counts['중증 고혈압 대상자 수'], color='lightcoral')\n",
    "plt.xlabel('중증 고혈압 대상자 수')\n",
    "plt.ylabel('행정동명')\n",
    "plt.title('세종시 행정동별 중증 고혈압 대상자 수')\n",
    "plt.show()\n"
   ]
  },
  {
   "cell_type": "markdown",
   "id": "7fb3edcc-ae26-4aaa-80ce-8dc9ac4cbc1a",
   "metadata": {},
   "source": [
    "#### '세종시 혈압 이상치 동별 분포 비율 비교'와 '세종시 행정동별 중증 고혈압 대상자 수' 사이에 차이가 나타나는 이유는 비율과 절대 수치의 차이 때문임\n",
    "###### 이상치 비율: 특정 행정동에서 발견된 혈압 이상치의 수를 해당 행정동의 전체 인구수로 나누어 계산됩니다. 이 지표는 인구 수와 비교했을 때 얼마나 많은 이상치가 발생했는지를 보여줍니다.\n",
    "###### 중증 고혈압 대상자 수: 이는 해당 행정동에서 중증 고혈압으로 분류된 사람들의 절대 수치입니다.\n",
    "###### 따라서, 인구 대비 이상치 비율은 인구가 적은 지역에서 중증 고혈압 대상자의 수가 적더라도 비율적으로는 높게 나타날 수 있습니다. 반대로, 인구가 많은 지역에서는 중증 고혈압 대상자 수가 많아도, 비율적으로는 상대적으로 낮게 나타날 수 있습니다."
   ]
  },
  {
   "cell_type": "markdown",
   "id": "4642da33-91d9-43b2-a600-93a337a0c51d",
   "metadata": {},
   "source": [
    "## 여기까지가 혈압 관련 내용입니다."
   ]
  },
  {
   "cell_type": "code",
   "execution_count": null,
   "id": "6352ad9e-0216-4fc2-a19c-6749a48526c4",
   "metadata": {},
   "outputs": [],
   "source": []
  },
  {
   "cell_type": "code",
   "execution_count": null,
   "id": "89d2c6a0-2df2-45b2-8e0a-fd9fc7bbb60b",
   "metadata": {
    "scrolled": true
   },
   "outputs": [],
   "source": [
    "#2. CVS파일을 로드하여 DataFrame생성 \n",
    "#2-2-1 `23년도 국민겅간보험공단 건강검진정보 파일 로드\n",
    "base_health = pd.read_csv('data/국민건강보험공단_건강검진정보_2023.CSV', encoding='cp949')\n",
    "df_health = base_health.copy()\n",
    "df_health.info(1)"
   ]
  },
  {
   "cell_type": "code",
   "execution_count": null,
   "id": "7abb0233-ffd9-4202-b31c-b32360223dfa",
   "metadata": {},
   "outputs": [],
   "source": [
    "## 1단계 데이터셋 구성 파악 할것\n",
    "##  - 종속/독립 변수의 파악, 데이터행 및 타입, Na컬럼 갯수 파악 : info() , shpae\n",
    "##  - 데이터 형태 파악 : head(5)\n",
    "##  - 테이터 분포 파악 : describe() , 시각화 boxplot(), .plot.hist() , (.value_counts(), .plot.bar())"
   ]
  },
  {
   "cell_type": "code",
   "execution_count": null,
   "id": "205e988b-9680-45ab-bc32-63a61561e7c3",
   "metadata": {},
   "outputs": [],
   "source": [
    "df_health.info()"
   ]
  },
  {
   "cell_type": "code",
   "execution_count": null,
   "id": "62ed7c72-7cae-41b4-a8d0-78660adeaf9b",
   "metadata": {},
   "outputs": [],
   "source": [
    "df_health.shape"
   ]
  },
  {
   "cell_type": "code",
   "execution_count": null,
   "id": "4f19d155-a0f2-4e35-9919-4e93730aa655",
   "metadata": {},
   "outputs": [],
   "source": [
    "df_health.head(1)"
   ]
  },
  {
   "cell_type": "code",
   "execution_count": null,
   "id": "403c5a17-8f99-4a51-a710-187a0703c6ac",
   "metadata": {},
   "outputs": [],
   "source": [
    "df_health.describe()"
   ]
  },
  {
   "cell_type": "code",
   "execution_count": null,
   "id": "029e7c8d-8a39-46b1-beb9-8fb41d38aef7",
   "metadata": {},
   "outputs": [],
   "source": [
    "# '신장', '체중' 컬럼에 대한 박스플롯 생성\n",
    "plt.figure(figsize=(10, 6))\n",
    "df_health.boxplot(column=['신장(5cm단위)', '체중(5kg단위)'])\n",
    "plt.title('신장과 체중 Boxplot')\n",
    "plt.show()\n"
   ]
  },
  {
   "cell_type": "code",
   "execution_count": null,
   "id": "bf0b5593-49f5-4a3d-a24b-0e5cca08b865",
   "metadata": {},
   "outputs": [],
   "source": [
    "# '나이', '혈압' 컬럼에 대한 히스토그램 생성\n",
    "plt.figure(figsize=(10, 6))\n",
    "df_health['연령대코드(5세단위)'].plot.hist(bins=20, alpha=0.7)\n",
    "plt.title('나이 히스토그램')\n",
    "plt.xlabel('나이')\n",
    "plt.ylabel('Frequency')\n",
    "plt.show()\n"
   ]
  },
  {
   "cell_type": "code",
   "execution_count": null,
   "id": "ad071639-b4dd-44c9-bcf2-bbab928b781d",
   "metadata": {},
   "outputs": [],
   "source": [
    "#  '흡연 여부' 컬럼에 대한 빈도수 시각화\n",
    "plt.figure(figsize=(10, 6))\n",
    "df_health['흡연상태'].value_counts().plot.bar(color='purple', rot=(0))\n",
    "plt.title('흡연상태분포')\n",
    "plt.xlabel('흡연상태')\n",
    "plt.ylabel('빈도수')\n",
    "plt.show()"
   ]
  },
  {
   "cell_type": "code",
   "execution_count": null,
   "id": "dc694ff4-6d10-47f7-9d8b-046b109d42c3",
   "metadata": {},
   "outputs": [],
   "source": [
    "#2. CVS파일을 로드하여 DataFrame생성 \n",
    "#2-2-2 2024년_7월_말_기준_인구현황(세종) 파일 로드 (엑셀파일)\n",
    "base_population = pd.read_excel(io='data/2024년_7월_말_기준_인구현황.xlsx', sheet_name='인구')\n",
    "df_population = base_population.copy()\n",
    "df_population.info()\n",
    "df_population.head(1)"
   ]
  },
  {
   "cell_type": "code",
   "execution_count": null,
   "id": "3f8c6b74-b662-4c0c-8f17-1ac572386c18",
   "metadata": {},
   "outputs": [],
   "source": [
    "df_population.shape"
   ]
  },
  {
   "cell_type": "code",
   "execution_count": null,
   "id": "ebbf91fc-3503-4bed-9765-f22ceca4ee35",
   "metadata": {},
   "outputs": [],
   "source": [
    "df_population.head(5)"
   ]
  },
  {
   "cell_type": "raw",
   "id": "9e5ea596-6ac4-431c-a24b-59b7ef642b8c",
   "metadata": {
    "scrolled": true
   },
   "source": [
    "#2. CVS파일을 로드하여 DataFrame생성 \n",
    "#2-2-3 건강보험심사평가원_2021.12/1. 병원정보서비스 2021.12.xlsx 파일 로드 (엑셀파일)\n",
    "base_hospital = pd.read_excel(io='data/건강보험심사평가원_2021.12/1. 병원정보서비스 2021.12.xlsx')\n",
    "df_hospital = base_hospital.copy()\n",
    "df_hospital.info()\n",
    "df_hospital.head()"
   ]
  },
  {
   "cell_type": "raw",
   "id": "abca6952-2af6-4036-b716-f358d26eec27",
   "metadata": {},
   "source": [
    "#2. CVS파일을 로드하여 DataFrame생성 \n",
    "#2-2-4 건강보험심사평가원_2021.12/2. 약국정보서비스 2021.12.xlsx 파일 로드 (엑셀파일)\n",
    "base_pharmacy = pd.read_excel(io='data/건강보험심사평가원_2021.12/2. 약국정보서비스 2021.12.xlsx')\n",
    "df_pharmacy = base_pharmacy.copy()\n",
    "df_pharmacy.info()\n",
    "df_pharmacy.head()"
   ]
  },
  {
   "cell_type": "code",
   "execution_count": null,
   "id": "10234fea-e2e3-4ae2-8e35-4050fadd77f7",
   "metadata": {},
   "outputs": [],
   "source": [
    "#2. CVS파일을 로드하여 DataFrame생성 \n",
    "#2-2-4 세종특별시 우편번호 파일 로드\n",
    "base_zip = pd.read_csv('data/세종특별자치시_우편번호.csv')\n",
    "df_zip = base_zip.copy()\n",
    "df_zip.info()\n",
    "df_zip.head(1)"
   ]
  },
  {
   "cell_type": "raw",
   "id": "4f0d8c50-1590-4d93-b775-a7ae7cd1e1fa",
   "metadata": {},
   "source": [
    "## 1단계 데이터셋 구성 파악 할것\n",
    "##  - 종속/독립 변수의 파악, 데이터행 및 타입, Na컬럼 갯수 파악 : info() , shpae\n",
    "##  - 데이터 형태 파악 : head(5)\n",
    "##  - 테이터 분포 파악 : describe() , 시각화 boxplot(), .plot.hist() , (.value_counts(), .plot.bar())"
   ]
  },
  {
   "cell_type": "code",
   "execution_count": null,
   "id": "500a9250-418d-46f5-b032-1c595e3ee2e9",
   "metadata": {},
   "outputs": [],
   "source": []
  },
  {
   "cell_type": "markdown",
   "id": "7cf6b132-ba48-41dc-8495-7febca56e6c1",
   "metadata": {},
   "source": [
    "## 전처리 작업으로 완료된 데이터셋 파일은 df대신 adf 로 적용하고 기본 데이터프레임으로 사용할것임"
   ]
  },
  {
   "cell_type": "raw",
   "id": "d6db5bab-87de-4f68-9d2c-d588c0c69456",
   "metadata": {},
   "source": [
    "## 예시 df_hw   ---> adf_hw  로 작업하시면 됩니다. \n",
    "## 분석 작업시 생성되는 DataFrame은 다음같이 정의합니다. \n",
    "## 명명규칙 : DataFrame명 + \"_\" + 이름약어 + \"-\" + 주고싶은 별도 명칭\n",
    "예시) adf_hw_ssa_name1 \n",
    "#* 추후 하나의 파일로 작성하기 좋을 듯 합니다. "
   ]
  },
  {
   "cell_type": "markdown",
   "id": "c00534c2-e328-47d7-93b7-bb7939e10eb9",
   "metadata": {},
   "source": [
    "# 3. 전처리 필요한 주요 데이터셋 분석 수행"
   ]
  },
  {
   "cell_type": "code",
   "execution_count": null,
   "id": "415c3d61-6947-46ee-90c4-06c04e9058f4",
   "metadata": {},
   "outputs": [],
   "source": []
  },
  {
   "cell_type": "markdown",
   "id": "8cc302f5-05e8-4b42-b700-6cda0f6ebee3",
   "metadata": {},
   "source": [
    "## 3-1. 세종특별자치시_신장 체중 등록 내역 "
   ]
  },
  {
   "cell_type": "code",
   "execution_count": null,
   "id": "75830079-762d-49af-b2c3-3f49540b75cd",
   "metadata": {},
   "outputs": [],
   "source": []
  },
  {
   "cell_type": "markdown",
   "id": "33659cf9-32af-4c1c-9665-33cd112c4b56",
   "metadata": {},
   "source": [
    "## 3-2. 세종특별자치시_인바디 측정 내역"
   ]
  },
  {
   "cell_type": "code",
   "execution_count": null,
   "id": "6c2d6013-cc3c-4510-a282-4b0fc2b7cbb5",
   "metadata": {},
   "outputs": [],
   "source": []
  },
  {
   "cell_type": "markdown",
   "id": "0abad3ac-b008-44bf-bd0d-39382117f533",
   "metadata": {},
   "source": [
    "## 3-3. 세종특별자치시_스트레스 측정 내역"
   ]
  },
  {
   "cell_type": "code",
   "execution_count": null,
   "id": "bc8de159-b236-4b0c-8e84-aef1d26f3662",
   "metadata": {},
   "outputs": [],
   "source": []
  },
  {
   "cell_type": "markdown",
   "id": "17600d60-8301-462c-ba63-ddabc0be0d6b",
   "metadata": {},
   "source": [
    "## 3-4. 세종특별자치시_혈압 측정 내역"
   ]
  },
  {
   "cell_type": "markdown",
   "id": "a6f072c5-bc21-46b0-96ba-500a0e46202e",
   "metadata": {},
   "source": [
    "# 4. 분석데이터셋 전처리 수행"
   ]
  },
  {
   "cell_type": "raw",
   "id": "ce04be7a-88ba-4232-8504-254958e5e4a0",
   "metadata": {},
   "source": [
    "# 전처리작업 : 1. NA값확인, 2. 결측치 확인, 3. 추가 컬럼적용(예: 나이)\n",
    "# 전처리를 완료한 4개의 DataFrame 갖고 똑똑건강 이용 형태 분석에 필요한  \"통합측정자료(공통)\" DataFrame생성\n",
    "\n",
    "\"통합측정자료(공통)\" 구성 내역임 \n",
    " #   Column        Non-Null Count  Dtype  \n",
    "---  ------        --------------  -----  \n",
    " 0   사용자 고유번호      8580 non-null   object \n",
    " 1   측정일자          8580 non-null   object \n",
    " 2   측정시간          8580 non-null   object \n",
    " 3   성별            8580 non-null   object \n",
    " 4   사용자 출생년도      8580 non-null   int64  \n",
    " 5   행정동명          8580 non-null   object \n",
    " 6   나이 포함할것 "
   ]
  },
  {
   "cell_type": "code",
   "execution_count": null,
   "id": "6d61dfca-c1cf-4aab-b7a5-f596d02b8132",
   "metadata": {},
   "outputs": [],
   "source": []
  },
  {
   "cell_type": "markdown",
   "id": "eb6b908d-2734-4ac6-8c54-86158c6d2e90",
   "metadata": {},
   "source": [
    "## 4-5. 통합측정자료(공통) DataFrame생성작업"
   ]
  },
  {
   "cell_type": "code",
   "execution_count": null,
   "id": "6298b063-0217-487a-a44f-b87418d0f305",
   "metadata": {},
   "outputs": [],
   "source": []
  },
  {
   "cell_type": "code",
   "execution_count": null,
   "id": "459ad11f-0007-4d11-8271-05b5ef18ef31",
   "metadata": {},
   "outputs": [],
   "source": [
    "## 임시적용 부분 추후 삭제 할것  start\n",
    "adf_wh = df_wh.copy()\n",
    "adf_inbody = df_inbody.copy()\n",
    "adf_stress = df_stress.copy()\n",
    "adf_blood = df_blood.copy()\n",
    "\n",
    "adf_wh['나이']     = 2023 - adf_wh['사용자 출생년도'] +1 \n",
    "adf_inbody['나이'] = 2023 - adf_inbody['사용자 출생년도'] +1 \n",
    "adf_stress['나이'] = 2023 - adf_stress['사용자 출생년도'] +1 \n",
    "adf_blood['나이']  = 2023 - adf_blood['사용자 출생년도'] +1 \n",
    "\n",
    "#tmp_hw = adf_wh[['사용자 고유번호', '측정일자', '측정시간', '성별', '사용자 출생년도', '행정동명', '나이']]\n",
    "#tmp_hw\n",
    "## 임시적용 부분 추후 삭제 할것  end\n",
    "\n",
    "## 작업내역 : 작업 4개 DataFrame 별 구분(wh, inbody, stress, blood)값 입력한 필요 데이터 부분 검색 후 df.concat()으로 합치기\n",
    "## 1. 구분값 적용\n",
    "adf_wh['구분'] = 'wh'\n",
    "adf_inbody['구분'] = 'inbody'\n",
    "adf_stress['구분'] = 'stress'\n",
    "adf_blood['구분'] = 'blood'\n",
    "\n",
    "## 각 데이터셋에서 해당 필드만 골라 세로로 합치기 수행\n",
    "base_check = pd.concat([ adf_wh[['구분', '사용자 고유번호', '측정일자', '측정시간', '성별', '사용자 출생년도', '행정동명', '나이']],\n",
    "                         adf_inbody[['구분','사용자 고유번호', '측정일자', '측정시간', '성별', '사용자 출생년도', '행정동명', '나이']],\n",
    "                         adf_stress[['구분','사용자 고유번호', '측정일자', '측정시간', '성별', '사용자 출생년도', '행정동명', '나이']],\n",
    "                         adf_blood[['구분','사용자 고유번호', '측정일자', '측정시간', '성별', '사용자 출생년도', '행정동명', '나이']]\n",
    "                       ]).reset_index()\n",
    "\n",
    "base_check.info()"
   ]
  },
  {
   "cell_type": "code",
   "execution_count": null,
   "id": "3f724466-4992-44e1-8d62-a13e02029647",
   "metadata": {},
   "outputs": [],
   "source": [
    "base_check.tail()"
   ]
  },
  {
   "cell_type": "code",
   "execution_count": null,
   "id": "95594e6a-8928-4acc-9cf5-40c50afff3ed",
   "metadata": {},
   "outputs": [],
   "source": [
    "## 2. 측정일자/측정시간  Object Type를 data Type변환 \n",
    "base_check['측정일자'] = pd.to_datetime(base_check['측정일자'])\n",
    "base_check.info()"
   ]
  },
  {
   "cell_type": "code",
   "execution_count": null,
   "id": "06926006-1503-4320-809c-9f3c5776f8e8",
   "metadata": {},
   "outputs": [],
   "source": [
    "base_check.head()"
   ]
  },
  {
   "cell_type": "code",
   "execution_count": null,
   "id": "60599d3e-f5d2-40fb-8809-8aea2a834ce8",
   "metadata": {},
   "outputs": [],
   "source": [
    "## 추가 컬럼 년도, 요일 , 분기 등등...\n",
    "# 측정연도 변수 추가 (년도)\n",
    "base_check['측정연도'] = base_check['측정일자'].dt.year\n",
    "# 측정요일 변수 추가 (요일) : ### 요일값 0:월 1:화.....6:일 입니다.\n",
    "#base_check['측정요일'] = base_check['측정일자'].dt.weekday\n",
    "base_check['측정요일'] = base_check['측정일자'].dt.day_name()\n",
    "\n",
    "## 측정요일 갖고 주말(토.일) 평일 구분\n",
    "base_check['휴일구분'] = np.where(base_check['측정일자'].dt.weekday>= 5, '주말','평일')\n",
    "\n",
    "## 나이대역 구분\n",
    "base_check['나이구분'] = (base_check['나이']//10)*10\n",
    "\n",
    "## 측정시간 변수 추가 \n",
    "base_check['방문시간'] = base_check['측정시간'].str.split(':').str.get(0)\n",
    "\n",
    "\n",
    "base_check"
   ]
  },
  {
   "cell_type": "code",
   "execution_count": null,
   "id": "07fe9906-f2b8-4f5a-8e9a-3d037dd060bb",
   "metadata": {},
   "outputs": [],
   "source": [
    "## 연도별 데이터 확인\n",
    "base_check['측정연도'].value_counts()"
   ]
  },
  {
   "cell_type": "code",
   "execution_count": null,
   "id": "f49cee05-0799-45c8-aa09-67dd586d2df8",
   "metadata": {},
   "outputs": [],
   "source": [
    "## 2021년도 이상만 구성 전처리 적용\n",
    "base_check=base_check.query('측정연도 >= 2021')\n",
    "base_check=base_check.query('측정연도 <  2024')\n",
    "base_check.info()"
   ]
  },
  {
   "cell_type": "markdown",
   "id": "ab0fc0ca-407d-42df-9cb4-77dac1d33a6f",
   "metadata": {},
   "source": [
    "# 5. DataFrame 분석 수행"
   ]
  },
  {
   "cell_type": "code",
   "execution_count": null,
   "id": "7ed4f859-0cda-4e73-b80d-95f8889348e7",
   "metadata": {},
   "outputs": [],
   "source": []
  },
  {
   "cell_type": "markdown",
   "id": "fe66bf7b-1da6-46dd-b7f8-1b008805e377",
   "metadata": {},
   "source": [
    "## 5-5.  \"통합측정자료(공통)\" 통해 똑똑건강 이용 실태 현황 분석 수행"
   ]
  },
  {
   "cell_type": "code",
   "execution_count": null,
   "id": "e8ec6185-5cd6-4864-8f79-e1aa282c2e8f",
   "metadata": {},
   "outputs": [],
   "source": [
    "## 복사본 생성\n",
    "adf_check = base_check.copy()"
   ]
  },
  {
   "cell_type": "code",
   "execution_count": null,
   "id": "998a7fe7-e4cd-43dc-993a-1544ebc516e2",
   "metadata": {},
   "outputs": [],
   "source": [
    "## 똑똑건강 전체 이용 형태 분석 ##\n",
    "adf_check.head(5)"
   ]
  },
  {
   "cell_type": "code",
   "execution_count": null,
   "id": "a78fb257-bb39-47be-abc7-fbc63f773b9a",
   "metadata": {},
   "outputs": [],
   "source": [
    "adf_check['나이'].value_counts()"
   ]
  },
  {
   "cell_type": "code",
   "execution_count": null,
   "id": "dc4694c7-a211-4ae9-a0ab-185e33afe32a",
   "metadata": {},
   "outputs": [],
   "source": [
    "sns.histplot(data=adf_check, x='나이')"
   ]
  },
  {
   "cell_type": "code",
   "execution_count": null,
   "id": "06a8b2c6-386a-4423-bdbb-50190f0d2bb9",
   "metadata": {},
   "outputs": [],
   "source": [
    "adf_check.describe()"
   ]
  },
  {
   "cell_type": "code",
   "execution_count": null,
   "id": "29e5cf9f-92da-4ec2-bd62-00759c4ad08f",
   "metadata": {},
   "outputs": [],
   "source": [
    "adf_check['나이구분'].value_counts()"
   ]
  },
  {
   "cell_type": "code",
   "execution_count": null,
   "id": "6191cae0-0462-4dab-9779-299422f2c571",
   "metadata": {},
   "outputs": [],
   "source": [
    "plt.title('똑똑건강 이용자 나이별 건강측정 현황', fontsize=14)\n",
    "plt.xlabel('나이', fontsize=10)\n",
    "plt.xticks(rotation=0, fontsize=8)\n",
    "\n",
    "#sns.set_palette('hls')\n",
    "ax = sns.countplot(data = adf_check, x ='나이구분', palette=\"hls\")\n",
    "for p in ax.patches:\n",
    "    height = p.get_height()\n",
    "    ax.text(p.get_x() + p.get_width() / 2., height + 3, height, ha = 'center', size = 7)\n",
    "    \n",
    "plt.show()"
   ]
  },
  {
   "cell_type": "code",
   "execution_count": null,
   "id": "7daab489-2eed-4479-ad67-d8445b229656",
   "metadata": {},
   "outputs": [],
   "source": [
    "adf_check['행정동명'].value_counts()"
   ]
  },
  {
   "cell_type": "code",
   "execution_count": null,
   "id": "0bfcca90-38f2-42f8-8b98-3657fbf0b87b",
   "metadata": {},
   "outputs": [],
   "source": [
    "plt.title('똑똑건강 이용자 전체 건강측정 현황', fontsize=14)\n",
    "plt.xlabel('행정동명', fontsize=10)\n",
    "plt.xticks(rotation=45, fontsize=8)\n",
    "#sns.set_palette('hls')\n",
    "sns.countplot(data = adf_check, x ='행정동명', palette=\"hls\", order = adf_check['행정동명'].value_counts().index)\n",
    "plt.show()"
   ]
  },
  {
   "cell_type": "code",
   "execution_count": null,
   "id": "587407c6-d691-4abc-af9e-8f6154126789",
   "metadata": {},
   "outputs": [],
   "source": [
    "import matplotlib.pyplot as plt\n",
    "plt.title('똑똑건강 이용자 전체 건강측정 현황', fontsize=14)\n",
    "plt.xlabel('행정동-측정기기별', fontsize=10)\n",
    "plt.xticks(rotation=45, fontsize=8)\n",
    "#sns.set_palette('hls')\n",
    "sns.countplot(data = adf_check, x ='행정동명', hue='구분', palette=\"hls\", order = adf_check['행정동명'].value_counts().index)\n",
    "plt.show()"
   ]
  },
  {
   "cell_type": "code",
   "execution_count": null,
   "id": "c3acbdd2-6077-456e-a128-c4e57ef396fe",
   "metadata": {},
   "outputs": [],
   "source": [
    "adf_check['구분'].value_counts()"
   ]
  },
  {
   "cell_type": "code",
   "execution_count": null,
   "id": "bdeef25c-4982-457f-bbd9-5581829e4b45",
   "metadata": {},
   "outputs": [],
   "source": [
    "sns.countplot(data = adf_check, x ='구분')"
   ]
  },
  {
   "cell_type": "code",
   "execution_count": null,
   "id": "64606dc2-a7fb-48d8-bf9d-e7adf7b6d370",
   "metadata": {},
   "outputs": [],
   "source": [
    "plt.title('똑똑건강 이용자 전체 측정기기 현황', fontsize=14)\n",
    "plt.xlabel('측정기기별', fontsize=10)\n",
    "plt.xticks(rotation=45, fontsize=8)\n",
    "#sns.set_palette('hls')\n",
    "sns.countplot(data = adf_check, x ='구분', hue='성별', palette=\"hls\")\n",
    "plt.show()"
   ]
  },
  {
   "cell_type": "code",
   "execution_count": null,
   "id": "7f621cd4-01c7-48ed-8af7-4779de721ad7",
   "metadata": {},
   "outputs": [],
   "source": [
    "adf_check['성별'].value_counts()"
   ]
  },
  {
   "cell_type": "code",
   "execution_count": null,
   "id": "7dd4e9d5-6f4e-46a1-8c8e-5e62bbfcaf1d",
   "metadata": {},
   "outputs": [],
   "source": [
    "sns.countplot(data = adf_check, x ='성별')"
   ]
  },
  {
   "cell_type": "code",
   "execution_count": null,
   "id": "99a0ce61-6bdd-4896-baef-0ef2d1e7cfa2",
   "metadata": {},
   "outputs": [],
   "source": [
    "plt.title('똑똑건강 이용자 전체 성별 현황', fontsize=14)\n",
    "plt.xlabel('측정기기별', fontsize=10)\n",
    "plt.xticks(rotation=45, fontsize=8)\n",
    "#sns.set_palette('hls')\n",
    "sns.countplot(data = adf_check, x ='구분', hue='성별', palette=\"hls\")\n",
    "plt.show()"
   ]
  },
  {
   "cell_type": "code",
   "execution_count": null,
   "id": "bf8f241e-3f72-423d-9d1a-c7399ee68999",
   "metadata": {},
   "outputs": [],
   "source": [
    "adf_check['측정연도'].value_counts()"
   ]
  },
  {
   "cell_type": "code",
   "execution_count": null,
   "id": "d71047c3-01ec-440c-8e0e-fec513b06300",
   "metadata": {},
   "outputs": [],
   "source": [
    "plt.title('똑똑건강 이용자 전체 건강측정 현황', fontsize=14)\n",
    "plt.xlabel('측정연도별', fontsize=10)\n",
    "plt.xticks(rotation=45, fontsize=8)\n",
    "#sns.set_palette('hls')\n",
    "sns.countplot(data = adf_check, x ='측정연도',  palette=\"hls\", legend=True)\n",
    "plt.show()"
   ]
  },
  {
   "cell_type": "code",
   "execution_count": null,
   "id": "f5b830b9-537b-4e8b-be0a-301c2e05cea1",
   "metadata": {},
   "outputs": [],
   "source": [
    "plt.title('똑똑건강 이용 측정연도별-측정기기 현황', fontsize=14)\n",
    "plt.xlabel('측정연도별-측정기기', fontsize=10)\n",
    "plt.xticks(rotation=45, fontsize=8)\n",
    "#sns.set_palette('hls')\n",
    "sns.countplot(data = adf_check, x ='측정연도',  hue='구분',  palette=\"hls\")\n",
    "plt.show()"
   ]
  },
  {
   "cell_type": "code",
   "execution_count": null,
   "id": "6c572c6d-f81c-4769-909e-ffcf40bcc5d6",
   "metadata": {},
   "outputs": [],
   "source": [
    "plt.title('똑똑건강 이용 측정연도-성별 현황', fontsize=14)\n",
    "plt.xlabel('측정연도-성별', fontsize=10)\n",
    "plt.xticks(rotation=45, fontsize=8)\n",
    "#sns.set_palette('hls')\n",
    "sns.countplot(data = adf_check, x ='측정연도',  hue='성별',  palette=\"hls\")\n",
    "plt.show()"
   ]
  },
  {
   "cell_type": "code",
   "execution_count": null,
   "id": "24530cf4-9000-485f-b2c7-01483b9b8266",
   "metadata": {},
   "outputs": [],
   "source": [
    "adf_check['측정연도'].value_counts()"
   ]
  },
  {
   "cell_type": "code",
   "execution_count": null,
   "id": "9f34dba7-bde8-4483-8abd-51c34ac2caf1",
   "metadata": {},
   "outputs": [],
   "source": [
    "adf_check_son_use01 = adf_check.groupby(['사용자 고유번호','성별','행정동명','나이'], as_index = False) \\\n",
    "                               .agg(cnt = ('사용자 고유번호', 'count'))\n",
    "adf_check_son_use01"
   ]
  },
  {
   "cell_type": "code",
   "execution_count": null,
   "id": "14f8cd85-6217-44f1-97f1-37ed304c391d",
   "metadata": {},
   "outputs": [],
   "source": [
    "adf_check_son_use01.describe()"
   ]
  },
  {
   "cell_type": "code",
   "execution_count": null,
   "id": "0474d170-c476-4bb6-8e81-7e35ba8e0c27",
   "metadata": {},
   "outputs": [],
   "source": [
    "adf_check_son_use01.info()"
   ]
  },
  {
   "cell_type": "code",
   "execution_count": null,
   "id": "e27f6702-34c8-4c20-9b5d-8c7008145b22",
   "metadata": {},
   "outputs": [],
   "source": [
    "sns.countplot(data = adf_check_son_use01, x ='나이')"
   ]
  },
  {
   "cell_type": "code",
   "execution_count": null,
   "id": "33996db2-6b66-4044-8871-fb1038102116",
   "metadata": {},
   "outputs": [],
   "source": [
    "plt.title('똑똑건강 실제 이용자 건강측정 현황', fontsize=14)\n",
    "plt.xlabel('행정동', fontsize=10)\n",
    "plt.xticks(rotation=45, fontsize=8)\n",
    "#sns.set_palette('hls')\n",
    "sns.countplot(data = adf_check_son_use01, x ='행정동명',  palette=\"hls\", order = adf_check['행정동명'].value_counts().index)\n",
    "plt.show()"
   ]
  },
  {
   "cell_type": "code",
   "execution_count": null,
   "id": "3be898fb-6b48-475d-bf64-0e4d4973b7cd",
   "metadata": {},
   "outputs": [],
   "source": [
    "plt.title('똑똑건강 실제 이용자 건강측정 현황', fontsize=14)\n",
    "plt.xlabel('행정동', fontsize=10)\n",
    "plt.xticks(rotation=45, fontsize=8)\n",
    "#sns.set_palette('hls')\n",
    "sns.countplot(data = adf_check_son_use01, x ='행정동명', hue='성별',  palette=\"hls\", order = adf_check['행정동명'].value_counts().index)\n",
    "plt.show()"
   ]
  },
  {
   "cell_type": "code",
   "execution_count": null,
   "id": "6d112ba9-2fde-4964-a6c6-60d64de65c86",
   "metadata": {},
   "outputs": [],
   "source": [
    "## 이용자 행정동명별 집계 count\n",
    "adf_check_son_use02 = adf_check_son_use01.groupby(['행정동명'], as_index = False) \\\n",
    "                               .agg(cnt = ('사용자 고유번호', 'count'))\n",
    "adf_check_son_use02 "
   ]
  },
  {
   "cell_type": "code",
   "execution_count": null,
   "id": "315c6885-51b4-4a77-a011-9a550b9e5fa7",
   "metadata": {},
   "outputs": [],
   "source": [
    "## Join으로 세종인구 와 \"adf_check_son_use01\" 합치기\n",
    "adf_check_son_use03 = adf_check_son_use02.merge(df_population, how='left', on='행정동명')\n",
    "adf_check_son_use03.info()"
   ]
  },
  {
   "cell_type": "code",
   "execution_count": null,
   "id": "82152cdb-c2a4-4b12-a4ac-81a20f34ac6b",
   "metadata": {},
   "outputs": [],
   "source": [
    "# 똑똑건강 이융자 - 동별 퍼센트\n",
    "adf_check_son_use03['똑똑비율'] = adf_check_son_use03['cnt'] / adf_check_son_use03['전체인구'] * 100\n",
    "adf_check_son_use03[['행정동명', 'cnt', '전체인구', '똑똑비율']]"
   ]
  },
  {
   "cell_type": "code",
   "execution_count": null,
   "id": "978f7a62-f8a9-4752-bac0-73d68dceea8a",
   "metadata": {},
   "outputs": [],
   "source": [
    "sum(adf_check_son_use03['cnt'])/ sum(adf_check_son_use03['전체인구'])*100"
   ]
  },
  {
   "cell_type": "code",
   "execution_count": null,
   "id": "7008f68a-64e0-409c-93f6-7b32d0b03bbf",
   "metadata": {},
   "outputs": [],
   "source": [
    "plt.title('똑똑건강 인구별 이용 비율 현황', fontsize=14)\n",
    "plt.xlabel('행정동', fontsize=10)\n",
    "plt.ylabel('인구', fontsize=10)\n",
    "plt.xticks(rotation=45, fontsize=8)\n",
    "#sns.set_palette('hls')\n",
    "\n",
    "ax = sns.barplot(data = adf_check_son_use03, x ='행정동명',  y = '전체인구',  palette=\"hls\", order = adf_check['행정동명'].value_counts().index)\n",
    "\n",
    "ax2 = ax.twinx()\n",
    "sns.pointplot(data = adf_check_son_use03, x ='행정동명',  y = 'cnt',   order = adf_check['행정동명'].value_counts().index, ax=ax2).set(ylim=[0,5000])\n",
    "\n",
    "plt.show()\n"
   ]
  },
  {
   "cell_type": "code",
   "execution_count": null,
   "id": "7e84a551-2fb6-4131-92d6-74ff6dd2cf87",
   "metadata": {},
   "outputs": [],
   "source": [
    "plt.title('똑똑건강 인구별 이용 비율 현황', fontsize=14)\n",
    "plt.xlabel('행정동', fontsize=10)\n",
    "plt.ylabel('이용비율', fontsize=10)\n",
    "plt.xticks(rotation=45, fontsize=8)\n",
    "#sns.set_palette('hls')\n",
    "sns.barplot(data = adf_check_son_use03, x ='행정동명',  y = '똑똑비율',  palette=\"hls\", order = adf_check['행정동명'].value_counts().index)\n",
    "\n",
    "#plt.hlines(y=1.846286394850873, xmin=0, xmax=len(adf_check_son_use03)+1, color='red', linestyle='dotted')\n",
    "plt.hlines(y=sum(adf_check_son_use03['cnt'])/ sum(adf_check_son_use03['전체인구'])*100, xmin=0, xmax=len(adf_check_son_use03)-1, color='red', linestyle='dotted')\n",
    "plt.show()"
   ]
  },
  {
   "cell_type": "code",
   "execution_count": null,
   "id": "bc346f5d-639b-48bd-9064-495a343a5a3d",
   "metadata": {},
   "outputs": [],
   "source": [
    "## 이용자 행정동명별 집계 count\n",
    "adf_check_son_use04 = adf_check_son_use01.groupby(['나이'], as_index = False) \\\n",
    "                               .agg(cnt = ('사용자 고유번호', 'count'))\n",
    "adf_check_son_use04['나이구분'] = (adf_check_son_use04['나이']//10)*10\n",
    "adf_check_son_use04"
   ]
  },
  {
   "cell_type": "code",
   "execution_count": null,
   "id": "4c066342-3081-4daa-b904-0c210961d169",
   "metadata": {},
   "outputs": [],
   "source": [
    "sns.lineplot(data = adf_check_son_use04, x = '나이구분', y = 'cnt')\n"
   ]
  },
  {
   "cell_type": "code",
   "execution_count": null,
   "id": "75c00569-67e0-43b6-a96d-13a8a4c55c1c",
   "metadata": {},
   "outputs": [],
   "source": []
  },
  {
   "cell_type": "code",
   "execution_count": null,
   "id": "8aaec850-0579-4c0b-a0b7-8c151b969d81",
   "metadata": {},
   "outputs": [],
   "source": []
  },
  {
   "cell_type": "code",
   "execution_count": null,
   "id": "e98abeae-b11d-4df5-994f-0577d9304a97",
   "metadata": {},
   "outputs": [],
   "source": []
  },
  {
   "cell_type": "code",
   "execution_count": null,
   "id": "6210a85f-6f30-43e8-8e1f-63069f8d09fd",
   "metadata": {},
   "outputs": [],
   "source": []
  },
  {
   "cell_type": "code",
   "execution_count": null,
   "id": "8a4eec84-73c9-41ff-b674-5f46ab61d000",
   "metadata": {},
   "outputs": [],
   "source": []
  },
  {
   "cell_type": "code",
   "execution_count": null,
   "id": "88910f1f-d36b-46a7-88b4-f21b798f8a67",
   "metadata": {},
   "outputs": [],
   "source": []
  },
  {
   "cell_type": "code",
   "execution_count": null,
   "id": "b113c67f-024e-4cf0-8f17-ca1409591158",
   "metadata": {},
   "outputs": [],
   "source": []
  },
  {
   "cell_type": "code",
   "execution_count": null,
   "id": "c3e93b2e-e9bf-4157-bde9-7c5ebb0f9baf",
   "metadata": {},
   "outputs": [],
   "source": []
  },
  {
   "cell_type": "code",
   "execution_count": null,
   "id": "96d32f5d-de33-4de2-b681-8c50610edad7",
   "metadata": {},
   "outputs": [],
   "source": []
  },
  {
   "cell_type": "code",
   "execution_count": null,
   "id": "13aef910-a5ba-450f-9ff0-34b4666431ab",
   "metadata": {},
   "outputs": [],
   "source": []
  },
  {
   "cell_type": "code",
   "execution_count": null,
   "id": "7be661a1-1aa3-4dc9-bbec-1f86c9ff247f",
   "metadata": {},
   "outputs": [],
   "source": []
  }
 ],
 "metadata": {
  "kernelspec": {
   "display_name": "Python 3 (ipykernel)",
   "language": "python",
   "name": "python3"
  },
  "language_info": {
   "codemirror_mode": {
    "name": "ipython",
    "version": 3
   },
   "file_extension": ".py",
   "mimetype": "text/x-python",
   "name": "python",
   "nbconvert_exporter": "python",
   "pygments_lexer": "ipython3",
   "version": "3.12.4"
  }
 },
 "nbformat": 4,
 "nbformat_minor": 5
}
